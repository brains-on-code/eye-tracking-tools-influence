{
 "cells": [
  {
   "cell_type": "markdown",
   "metadata": {
    "collapsed": true,
    "pycharm": {
     "name": "#%% md\n"
    }
   },
   "source": [
    "# RQ1 - Eyetracking Fixation Metrics"
   ]
  },
  {
   "cell_type": "markdown",
   "source": [
    "## Import Libraries"
   ],
   "metadata": {
    "collapsed": false,
    "pycharm": {
     "name": "#%% md\n"
    }
   }
  },
  {
   "cell_type": "code",
   "execution_count": 2,
   "outputs": [],
   "source": [
    "import numpy as np\n",
    "import pandas as pd\n",
    "from tqdm.notebook import tqdm\n",
    "import utils.GenSnippetsLib as gsl\n",
    "import os"
   ],
   "metadata": {
    "collapsed": false,
    "pycharm": {
     "name": "#%%\n"
    }
   }
  },
  {
   "cell_type": "code",
   "execution_count": 3,
   "outputs": [],
   "source": [
    "screen_resolution = (1920, 1080)"
   ],
   "metadata": {
    "collapsed": false,
    "pycharm": {
     "name": "#%%\n"
    }
   }
  },
  {
   "cell_type": "markdown",
   "source": [
    "## Import Eyetracking Data"
   ],
   "metadata": {
    "collapsed": false,
    "pycharm": {
     "name": "#%% md\n"
    }
   }
  },
  {
   "cell_type": "code",
   "execution_count": 4,
   "outputs": [
    {
     "data": {
      "text/plain": "     Participant            Algorithm  \\\n0              1              IsPrime   \n1              1  SiebDesEratosthenes   \n2              1            IsAnagram   \n3              1     RemoveDoubleChar   \n4              1         BinToDecimal   \n...          ...                  ...   \n1067          71             BogoSort   \n1068          71         ReverseQueue   \n1069          71             Ackerman   \n1070          71       RabbitTortoise   \n1071          71            Rectangle   \n\n                                                   Path  \n0     ./data/filteredData/Participant01/IsPrime_Code...  \n1     ./data/filteredData/Participant01/SiebDesErato...  \n2     ./data/filteredData/Participant01/IsAnagram_Co...  \n3     ./data/filteredData/Participant01/RemoveDouble...  \n4     ./data/filteredData/Participant01/BinToDecimal...  \n...                                                 ...  \n1067  ./data/filteredData/Participant71/BogoSort_Cod...  \n1068  ./data/filteredData/Participant71/ReverseQueue...  \n1069  ./data/filteredData/Participant71/Ackerman_Cod...  \n1070  ./data/filteredData/Participant71/RabbitTortoi...  \n1071  ./data/filteredData/Participant71/Rectangle_Co...  \n\n[1072 rows x 3 columns]",
      "text/html": "<div>\n<style scoped>\n    .dataframe tbody tr th:only-of-type {\n        vertical-align: middle;\n    }\n\n    .dataframe tbody tr th {\n        vertical-align: top;\n    }\n\n    .dataframe thead th {\n        text-align: right;\n    }\n</style>\n<table border=\"1\" class=\"dataframe\">\n  <thead>\n    <tr style=\"text-align: right;\">\n      <th></th>\n      <th>Participant</th>\n      <th>Algorithm</th>\n      <th>Path</th>\n    </tr>\n  </thead>\n  <tbody>\n    <tr>\n      <th>0</th>\n      <td>1</td>\n      <td>IsPrime</td>\n      <td>./data/filteredData/Participant01/IsPrime_Code...</td>\n    </tr>\n    <tr>\n      <th>1</th>\n      <td>1</td>\n      <td>SiebDesEratosthenes</td>\n      <td>./data/filteredData/Participant01/SiebDesErato...</td>\n    </tr>\n    <tr>\n      <th>2</th>\n      <td>1</td>\n      <td>IsAnagram</td>\n      <td>./data/filteredData/Participant01/IsAnagram_Co...</td>\n    </tr>\n    <tr>\n      <th>3</th>\n      <td>1</td>\n      <td>RemoveDoubleChar</td>\n      <td>./data/filteredData/Participant01/RemoveDouble...</td>\n    </tr>\n    <tr>\n      <th>4</th>\n      <td>1</td>\n      <td>BinToDecimal</td>\n      <td>./data/filteredData/Participant01/BinToDecimal...</td>\n    </tr>\n    <tr>\n      <th>...</th>\n      <td>...</td>\n      <td>...</td>\n      <td>...</td>\n    </tr>\n    <tr>\n      <th>1067</th>\n      <td>71</td>\n      <td>BogoSort</td>\n      <td>./data/filteredData/Participant71/BogoSort_Cod...</td>\n    </tr>\n    <tr>\n      <th>1068</th>\n      <td>71</td>\n      <td>ReverseQueue</td>\n      <td>./data/filteredData/Participant71/ReverseQueue...</td>\n    </tr>\n    <tr>\n      <th>1069</th>\n      <td>71</td>\n      <td>Ackerman</td>\n      <td>./data/filteredData/Participant71/Ackerman_Cod...</td>\n    </tr>\n    <tr>\n      <th>1070</th>\n      <td>71</td>\n      <td>RabbitTortoise</td>\n      <td>./data/filteredData/Participant71/RabbitTortoi...</td>\n    </tr>\n    <tr>\n      <th>1071</th>\n      <td>71</td>\n      <td>Rectangle</td>\n      <td>./data/filteredData/Participant71/Rectangle_Co...</td>\n    </tr>\n  </tbody>\n</table>\n<p>1072 rows × 3 columns</p>\n</div>"
     },
     "execution_count": 4,
     "metadata": {},
     "output_type": "execute_result"
    }
   ],
   "source": [
    "df_query = pd.read_csv(\"./data/filteredData/filtered_data.csv\")\n",
    "df_eyetracking_events = pd.DataFrame(columns=[\"Participant\", \"Algorithm\", \"Path\"])\n",
    "snippets = df_query[\"Algorithm\"].unique()\n",
    "participants = df_query[\"Participant\"].unique()\n",
    "for participant in participants:\n",
    "    for snippet in snippets:\n",
    "        path = f\"./data/filteredData/Participant{str(participant).zfill(2)}/{snippet}_Code_eyetracking.csv\"\n",
    "        # check if path exists\n",
    "        if os.path.exists(path):\n",
    "            df_eyetracking_events.loc[len(df_eyetracking_events)] = [participant, snippet, path]\n",
    "df_eyetracking_events"
   ],
   "metadata": {
    "collapsed": false,
    "pycharm": {
     "name": "#%%\n"
    }
   }
  },
  {
   "cell_type": "code",
   "execution_count": 5,
   "outputs": [],
   "source": [
    "df_filtered = pd.read_csv(\"./data/filteredData/filtered_data.csv\")\n",
    "Algorithms = df_filtered[\"Algorithm\"].unique()\n",
    "Participants = df_filtered[df_filtered[\"IsOutlier\"] == False][\"Participant\"].unique()"
   ],
   "metadata": {
    "collapsed": false,
    "pycharm": {
     "name": "#%%\n"
    }
   }
  },
  {
   "cell_type": "code",
   "execution_count": 6,
   "outputs": [],
   "source": [
    "def doBoxesCollide(a, b):\n",
    "    a_x_center = a[0]\n",
    "    a_y_center = a[1]\n",
    "    a_width = a[2]\n",
    "    a_height = a[3]\n",
    "    b_x_center = b[0]\n",
    "    b_y_center = b[1]\n",
    "    b_width = b[2]\n",
    "    b_height = b[3]\n",
    "    return abs(a_x_center - b_x_center) * 2 < (a_width + b_width) and abs(a_y_center - b_y_center) * 2 < (a_height + b_height)"
   ],
   "metadata": {
    "collapsed": false,
    "pycharm": {
     "name": "#%%\n"
    }
   }
  },
  {
   "cell_type": "markdown",
   "source": [
    "# Token Based Metrics"
   ],
   "metadata": {
    "collapsed": false,
    "pycharm": {
     "name": "#%% md\n"
    }
   }
  },
  {
   "cell_type": "code",
   "execution_count": 7,
   "outputs": [
    {
     "data": {
      "text/plain": "  0%|          | 0/32 [00:00<?, ?it/s]",
      "application/vnd.jupyter.widget-view+json": {
       "version_major": 2,
       "version_minor": 0,
       "model_id": "669173e388164d6fa080609f63221b19"
      }
     },
     "metadata": {},
     "output_type": "display_data"
    },
    {
     "data": {
      "text/plain": "      Algorithm       Token TokenIdx             BoundingBox\n0       IsPrime    Modifier        0    (808, 468, 856, 482)\n1       IsPrime    Modifier        1    (864, 468, 912, 479)\n2       IsPrime   BasicType        2    (920, 469, 976, 479)\n3       IsPrime  Identifier        3   (984, 468, 1040, 479)\n4       IsPrime   Separator        4  (1040, 467, 1048, 481)\n...         ...         ...      ...                     ...\n2700  Rectangle     Keyword       82   (988, 677, 1020, 688)\n2701  Rectangle   Separator       83  (1020, 685, 1028, 688)\n2702  Rectangle  Identifier       84  (1028, 677, 1076, 691)\n2703  Rectangle   Separator       85  (1076, 676, 1100, 691)\n2704  Rectangle   Separator       86    (780, 695, 788, 709)\n\n[2705 rows x 4 columns]",
      "text/html": "<div>\n<style scoped>\n    .dataframe tbody tr th:only-of-type {\n        vertical-align: middle;\n    }\n\n    .dataframe tbody tr th {\n        vertical-align: top;\n    }\n\n    .dataframe thead th {\n        text-align: right;\n    }\n</style>\n<table border=\"1\" class=\"dataframe\">\n  <thead>\n    <tr style=\"text-align: right;\">\n      <th></th>\n      <th>Algorithm</th>\n      <th>Token</th>\n      <th>TokenIdx</th>\n      <th>BoundingBox</th>\n    </tr>\n  </thead>\n  <tbody>\n    <tr>\n      <th>0</th>\n      <td>IsPrime</td>\n      <td>Modifier</td>\n      <td>0</td>\n      <td>(808, 468, 856, 482)</td>\n    </tr>\n    <tr>\n      <th>1</th>\n      <td>IsPrime</td>\n      <td>Modifier</td>\n      <td>1</td>\n      <td>(864, 468, 912, 479)</td>\n    </tr>\n    <tr>\n      <th>2</th>\n      <td>IsPrime</td>\n      <td>BasicType</td>\n      <td>2</td>\n      <td>(920, 469, 976, 479)</td>\n    </tr>\n    <tr>\n      <th>3</th>\n      <td>IsPrime</td>\n      <td>Identifier</td>\n      <td>3</td>\n      <td>(984, 468, 1040, 479)</td>\n    </tr>\n    <tr>\n      <th>4</th>\n      <td>IsPrime</td>\n      <td>Separator</td>\n      <td>4</td>\n      <td>(1040, 467, 1048, 481)</td>\n    </tr>\n    <tr>\n      <th>...</th>\n      <td>...</td>\n      <td>...</td>\n      <td>...</td>\n      <td>...</td>\n    </tr>\n    <tr>\n      <th>2700</th>\n      <td>Rectangle</td>\n      <td>Keyword</td>\n      <td>82</td>\n      <td>(988, 677, 1020, 688)</td>\n    </tr>\n    <tr>\n      <th>2701</th>\n      <td>Rectangle</td>\n      <td>Separator</td>\n      <td>83</td>\n      <td>(1020, 685, 1028, 688)</td>\n    </tr>\n    <tr>\n      <th>2702</th>\n      <td>Rectangle</td>\n      <td>Identifier</td>\n      <td>84</td>\n      <td>(1028, 677, 1076, 691)</td>\n    </tr>\n    <tr>\n      <th>2703</th>\n      <td>Rectangle</td>\n      <td>Separator</td>\n      <td>85</td>\n      <td>(1076, 676, 1100, 691)</td>\n    </tr>\n    <tr>\n      <th>2704</th>\n      <td>Rectangle</td>\n      <td>Separator</td>\n      <td>86</td>\n      <td>(780, 695, 788, 709)</td>\n    </tr>\n  </tbody>\n</table>\n<p>2705 rows × 4 columns</p>\n</div>"
     },
     "execution_count": 7,
     "metadata": {},
     "output_type": "execute_result"
    }
   ],
   "source": [
    "# Get Token based AOIs\n",
    "df_token_aois = pd.DataFrame(columns=[\"Algorithm\", \"Token\", \"TokenIdx\", \"BoundingBox\"])\n",
    "for snippet in tqdm(Algorithms):\n",
    "    aoi_token_generator = f\"./../CodeSnippets/Generators_Labeled/Generators/{snippet}_ast.json\"\n",
    "    image, aoi_list = gsl.create_image(aoi_token_generator, font_path=\"./../CodeSnippets/fonts/ttf/\")\n",
    "    height, width = image.size\n",
    "    width_offset = int(1920 * 0.5) - int(height / 2)\n",
    "    height_offset = int(1080 * 0.5) - int(width / 2)\n",
    "    aoi_clustered = []\n",
    "    current_left = None\n",
    "    current_top = None\n",
    "    current_right = None\n",
    "    current_bottom = None\n",
    "    current_aoi = None\n",
    "    color = None\n",
    "    for letter in aoi_list:\n",
    "        if len(letter[\"AOI\"]) == 1 or letter[\"letter\"] == '\\n':\n",
    "            if current_aoi is not None:\n",
    "                aoi_clustered.append(\n",
    "                    (len(aoi_clustered), current_aoi, current_left, current_top, current_right, current_bottom, color))\n",
    "            current_aoi = None\n",
    "            color = None\n",
    "            current_left = None\n",
    "            current_top = None\n",
    "            current_right = None\n",
    "            current_bottom = None\n",
    "            continue\n",
    "        if current_aoi is None:\n",
    "            current_aoi = letter[\"AOI\"][1]\n",
    "            color = letter[\"color\"]\n",
    "            current_left = letter[\"BoundingBox\"][0]\n",
    "            current_top = letter[\"BoundingBox\"][1]\n",
    "            current_right = letter[\"BoundingBox\"][2]\n",
    "            current_bottom = letter[\"BoundingBox\"][3]\n",
    "        elif current_aoi == letter[\"AOI\"][1]:\n",
    "            current_left = min(current_left, letter[\"BoundingBox\"][0])\n",
    "            current_top = min(current_top, letter[\"BoundingBox\"][1])\n",
    "            current_right = max(current_right, letter[\"BoundingBox\"][2])\n",
    "            current_bottom = max(current_bottom, letter[\"BoundingBox\"][3])\n",
    "        else:\n",
    "            aoi_clustered.append(\n",
    "                (len(aoi_clustered), current_aoi, current_left, current_top, current_right, current_bottom, color))\n",
    "            current_aoi = letter[\"AOI\"][1]\n",
    "            color = letter[\"color\"]\n",
    "            current_left = letter[\"BoundingBox\"][0]\n",
    "            current_top = letter[\"BoundingBox\"][1]\n",
    "            current_right = letter[\"BoundingBox\"][2]\n",
    "            current_bottom = letter[\"BoundingBox\"][3]\n",
    "\n",
    "    for token in aoi_clustered:\n",
    "        df_token_aois.loc[len(df_token_aois)] = [snippet, token[1], token[0],\n",
    "                                                 (token[2] + width_offset,\n",
    "                                                  token[3] + height_offset,\n",
    "                                                  token[4] + width_offset,\n",
    "                                                  token[5] + height_offset)]\n",
    "df_token_aois"
   ],
   "metadata": {
    "collapsed": false,
    "pycharm": {
     "name": "#%%\n"
    }
   }
  },
  {
   "cell_type": "markdown",
   "source": [
    "### Check which Fixation of which Participant is in which Token"
   ],
   "metadata": {
    "collapsed": false,
    "pycharm": {
     "name": "#%% md\n"
    }
   }
  },
  {
   "cell_type": "code",
   "execution_count": 8,
   "outputs": [
    {
     "data": {
      "text/plain": "  0%|          | 0/32 [00:00<?, ?it/s]",
      "application/vnd.jupyter.widget-view+json": {
       "version_major": 2,
       "version_minor": 0,
       "model_id": "79a764ef6a884ea8a6361087b1205b6d"
      }
     },
     "metadata": {},
     "output_type": "display_data"
    },
    {
     "data": {
      "text/plain": "        Algorithm Participant FixationNumber  Start    End TokenIdx\n0         IsPrime           1              0  0.000  0.228     None\n1         IsPrime           1              1  0.264  0.440     None\n2         IsPrime           1              2  0.656  0.736     None\n3         IsPrime           1              3  0.756  0.884     None\n4         IsPrime           1              4  1.148  1.348        1\n...           ...         ...            ...    ...    ...      ...\n172988  Rectangle          71             30  8.812  8.944       26\n172989  Rectangle          71             31  8.996  9.080     None\n172990  Rectangle          71             32  9.272  9.404     None\n172991  Rectangle          71             33  9.436  9.596       22\n172992  Rectangle          71             34  9.640  9.776     None\n\n[172993 rows x 6 columns]",
      "text/html": "<div>\n<style scoped>\n    .dataframe tbody tr th:only-of-type {\n        vertical-align: middle;\n    }\n\n    .dataframe tbody tr th {\n        vertical-align: top;\n    }\n\n    .dataframe thead th {\n        text-align: right;\n    }\n</style>\n<table border=\"1\" class=\"dataframe\">\n  <thead>\n    <tr style=\"text-align: right;\">\n      <th></th>\n      <th>Algorithm</th>\n      <th>Participant</th>\n      <th>FixationNumber</th>\n      <th>Start</th>\n      <th>End</th>\n      <th>TokenIdx</th>\n    </tr>\n  </thead>\n  <tbody>\n    <tr>\n      <th>0</th>\n      <td>IsPrime</td>\n      <td>1</td>\n      <td>0</td>\n      <td>0.000</td>\n      <td>0.228</td>\n      <td>None</td>\n    </tr>\n    <tr>\n      <th>1</th>\n      <td>IsPrime</td>\n      <td>1</td>\n      <td>1</td>\n      <td>0.264</td>\n      <td>0.440</td>\n      <td>None</td>\n    </tr>\n    <tr>\n      <th>2</th>\n      <td>IsPrime</td>\n      <td>1</td>\n      <td>2</td>\n      <td>0.656</td>\n      <td>0.736</td>\n      <td>None</td>\n    </tr>\n    <tr>\n      <th>3</th>\n      <td>IsPrime</td>\n      <td>1</td>\n      <td>3</td>\n      <td>0.756</td>\n      <td>0.884</td>\n      <td>None</td>\n    </tr>\n    <tr>\n      <th>4</th>\n      <td>IsPrime</td>\n      <td>1</td>\n      <td>4</td>\n      <td>1.148</td>\n      <td>1.348</td>\n      <td>1</td>\n    </tr>\n    <tr>\n      <th>...</th>\n      <td>...</td>\n      <td>...</td>\n      <td>...</td>\n      <td>...</td>\n      <td>...</td>\n      <td>...</td>\n    </tr>\n    <tr>\n      <th>172988</th>\n      <td>Rectangle</td>\n      <td>71</td>\n      <td>30</td>\n      <td>8.812</td>\n      <td>8.944</td>\n      <td>26</td>\n    </tr>\n    <tr>\n      <th>172989</th>\n      <td>Rectangle</td>\n      <td>71</td>\n      <td>31</td>\n      <td>8.996</td>\n      <td>9.080</td>\n      <td>None</td>\n    </tr>\n    <tr>\n      <th>172990</th>\n      <td>Rectangle</td>\n      <td>71</td>\n      <td>32</td>\n      <td>9.272</td>\n      <td>9.404</td>\n      <td>None</td>\n    </tr>\n    <tr>\n      <th>172991</th>\n      <td>Rectangle</td>\n      <td>71</td>\n      <td>33</td>\n      <td>9.436</td>\n      <td>9.596</td>\n      <td>22</td>\n    </tr>\n    <tr>\n      <th>172992</th>\n      <td>Rectangle</td>\n      <td>71</td>\n      <td>34</td>\n      <td>9.640</td>\n      <td>9.776</td>\n      <td>None</td>\n    </tr>\n  </tbody>\n</table>\n<p>172993 rows × 6 columns</p>\n</div>"
     },
     "execution_count": 8,
     "metadata": {},
     "output_type": "execute_result"
    }
   ],
   "source": [
    "df_token_fixation_per_participant = pd.DataFrame([], columns=[\"Algorithm\", \"Participant\", \"FixationNumber\", \"Start\", \"End\", \"TokenIdx\"])\n",
    "labels = set()\n",
    "for snippet in tqdm(Algorithms):\n",
    "    df_token_per_algo = df_token_aois[df_token_aois[\"Algorithm\"] == snippet]\n",
    "\n",
    "    for participant in Participants:\n",
    "        df_grouped = df_eyetracking_events[(df_eyetracking_events[\"Participant\"] == participant) &\n",
    "                                           (df_eyetracking_events[\"Algorithm\"] == snippet)]\n",
    "        if len(df_grouped) == 0:\n",
    "            continue\n",
    "\n",
    "        eyetracking_path = df_grouped[\"Path\"].values[0]\n",
    "        df_current_eyetracking = pd.read_csv(eyetracking_path)\n",
    "        label = df_current_eyetracking[\"label\"].unique()\n",
    "        labels.update(label)\n",
    "        df_fix = df_current_eyetracking[df_current_eyetracking[\"label\"] == \"FIXA\"]\n",
    "        df_fix = df_fix.reset_index()\n",
    "        df_fix[\"duration\"] = df_fix[\"end_time\"] - df_fix[\"start_time\"]\n",
    "        df_fix[\"x_range\"] = (df_fix[\"end_x\"] - df_fix[\"start_x\"]).apply(abs)\n",
    "        df_fix[\"y_range\"] = (df_fix[\"end_y\"] - df_fix[\"start_y\"]).apply(abs)\n",
    "        for fix_idx, fix_row in df_fix.iterrows():\n",
    "            rectangle_a = [fix_row[\"start_x\"], fix_row[\"start_y\"], fix_row[\"x_range\"], fix_row[\"y_range\"]]\n",
    "            was_in_aoi = False\n",
    "            for _, token_row in df_token_per_algo.iterrows():\n",
    "                token_idx = token_row[\"TokenIdx\"]\n",
    "                bounding_box = token_row[\"BoundingBox\"]\n",
    "                rectangle_b = [(bounding_box[0] + bounding_box[2])/ 2, (bounding_box[1] + bounding_box[3])/ 2,\n",
    "                               bounding_box[2] - bounding_box[0], bounding_box[3] - bounding_box[1]]\n",
    "                # check if any value is true\n",
    "                if doBoxesCollide(rectangle_a, rectangle_b):\n",
    "                    df_token_fixation_per_participant.loc[len(df_token_fixation_per_participant)] =[snippet, participant, fix_idx, fix_row[\"start_time\"], fix_row[\"end_time\"], token_idx]\n",
    "                    was_in_aoi = True\n",
    "                    break\n",
    "            if not was_in_aoi:\n",
    "                 df_token_fixation_per_participant.loc[len(df_token_fixation_per_participant)] =[snippet, participant, fix_idx, fix_row[\"start_time\"], fix_row[\"end_time\"], None]\n",
    "\n",
    "\n",
    "df_token_fixation_per_participant"
   ],
   "metadata": {
    "collapsed": false,
    "pycharm": {
     "name": "#%%\n"
    }
   }
  },
  {
   "cell_type": "code",
   "execution_count": 9,
   "outputs": [],
   "source": [
    "# save the result\n",
    "df_token_aois_tmp = df_token_aois.copy()\n",
    "df_token_aois_tmp = df_token_aois_tmp[[\"Algorithm\", \"TokenIdx\", \"Token\"]]\n",
    "for algorithm in df_token_aois[\"Algorithm\"].unique():\n",
    "    df_token_aois_tmp.loc[len(df_token_aois_tmp)] = [algorithm, -1, \"\"]\n",
    "\n",
    "df_token_fixation_per_participant[\"TokenIdx\"] = df_token_fixation_per_participant[\"TokenIdx\"].fillna(-1.0).astype(int)\n",
    "df_token_fixation_per_participant = pd.merge(df_token_fixation_per_participant, df_token_aois_tmp, on=[\"Algorithm\", \"TokenIdx\"], how=\"left\")\n",
    "df_token_fixation_per_participant.to_csv(\"./data/fixation_per_participant_per_token.csv\", index=False)"
   ],
   "metadata": {
    "collapsed": false,
    "pycharm": {
     "name": "#%%\n"
    }
   }
  },
  {
   "cell_type": "code",
   "execution_count": 10,
   "outputs": [
    {
     "data": {
      "text/plain": "        Algorithm  Participant  FixationNumber  Start    End  TokenIdx\n0         IsPrime            1               0  0.000  0.228       NaN\n1         IsPrime            1               1  0.264  0.440       NaN\n2         IsPrime            1               2  0.656  0.736       NaN\n3         IsPrime            1               3  0.756  0.884       NaN\n4         IsPrime            1               4  1.148  1.348       1.0\n...           ...          ...             ...    ...    ...       ...\n172988  Rectangle           71              30  8.812  8.944      26.0\n172989  Rectangle           71              31  8.996  9.080       NaN\n172990  Rectangle           71              32  9.272  9.404       NaN\n172991  Rectangle           71              33  9.436  9.596      22.0\n172992  Rectangle           71              34  9.640  9.776       NaN\n\n[172993 rows x 6 columns]",
      "text/html": "<div>\n<style scoped>\n    .dataframe tbody tr th:only-of-type {\n        vertical-align: middle;\n    }\n\n    .dataframe tbody tr th {\n        vertical-align: top;\n    }\n\n    .dataframe thead th {\n        text-align: right;\n    }\n</style>\n<table border=\"1\" class=\"dataframe\">\n  <thead>\n    <tr style=\"text-align: right;\">\n      <th></th>\n      <th>Algorithm</th>\n      <th>Participant</th>\n      <th>FixationNumber</th>\n      <th>Start</th>\n      <th>End</th>\n      <th>TokenIdx</th>\n    </tr>\n  </thead>\n  <tbody>\n    <tr>\n      <th>0</th>\n      <td>IsPrime</td>\n      <td>1</td>\n      <td>0</td>\n      <td>0.000</td>\n      <td>0.228</td>\n      <td>NaN</td>\n    </tr>\n    <tr>\n      <th>1</th>\n      <td>IsPrime</td>\n      <td>1</td>\n      <td>1</td>\n      <td>0.264</td>\n      <td>0.440</td>\n      <td>NaN</td>\n    </tr>\n    <tr>\n      <th>2</th>\n      <td>IsPrime</td>\n      <td>1</td>\n      <td>2</td>\n      <td>0.656</td>\n      <td>0.736</td>\n      <td>NaN</td>\n    </tr>\n    <tr>\n      <th>3</th>\n      <td>IsPrime</td>\n      <td>1</td>\n      <td>3</td>\n      <td>0.756</td>\n      <td>0.884</td>\n      <td>NaN</td>\n    </tr>\n    <tr>\n      <th>4</th>\n      <td>IsPrime</td>\n      <td>1</td>\n      <td>4</td>\n      <td>1.148</td>\n      <td>1.348</td>\n      <td>1.0</td>\n    </tr>\n    <tr>\n      <th>...</th>\n      <td>...</td>\n      <td>...</td>\n      <td>...</td>\n      <td>...</td>\n      <td>...</td>\n      <td>...</td>\n    </tr>\n    <tr>\n      <th>172988</th>\n      <td>Rectangle</td>\n      <td>71</td>\n      <td>30</td>\n      <td>8.812</td>\n      <td>8.944</td>\n      <td>26.0</td>\n    </tr>\n    <tr>\n      <th>172989</th>\n      <td>Rectangle</td>\n      <td>71</td>\n      <td>31</td>\n      <td>8.996</td>\n      <td>9.080</td>\n      <td>NaN</td>\n    </tr>\n    <tr>\n      <th>172990</th>\n      <td>Rectangle</td>\n      <td>71</td>\n      <td>32</td>\n      <td>9.272</td>\n      <td>9.404</td>\n      <td>NaN</td>\n    </tr>\n    <tr>\n      <th>172991</th>\n      <td>Rectangle</td>\n      <td>71</td>\n      <td>33</td>\n      <td>9.436</td>\n      <td>9.596</td>\n      <td>22.0</td>\n    </tr>\n    <tr>\n      <th>172992</th>\n      <td>Rectangle</td>\n      <td>71</td>\n      <td>34</td>\n      <td>9.640</td>\n      <td>9.776</td>\n      <td>NaN</td>\n    </tr>\n  </tbody>\n</table>\n<p>172993 rows × 6 columns</p>\n</div>"
     },
     "execution_count": 10,
     "metadata": {},
     "output_type": "execute_result"
    }
   ],
   "source": [
    "# load the result\n",
    "df_token_fixation_per_participant = pd.read_csv(\"./data/fixation_per_participant_per_token.csv\")\n",
    "df_token_fixation_per_participant = df_token_fixation_per_participant.drop(\"Token\", axis=1)\n",
    "df_token_fixation_per_participant[\"TokenIdx\"] = df_token_fixation_per_participant[\"TokenIdx\"].astype(float)\n",
    "df_token_fixation_per_participant.loc[df_token_fixation_per_participant[\"TokenIdx\"] < 0, \"TokenIdx\"] = float(\"Nan\")\n",
    "df_token_fixation_per_participant"
   ],
   "metadata": {
    "collapsed": false,
    "pycharm": {
     "name": "#%%\n"
    }
   }
  },
  {
   "cell_type": "markdown",
   "source": [
    "## Remove Nones from the Tokens"
   ],
   "metadata": {
    "collapsed": false,
    "pycharm": {
     "name": "#%% md\n"
    }
   }
  },
  {
   "cell_type": "code",
   "execution_count": 11,
   "outputs": [
    {
     "data": {
      "text/plain": "   Algorithm  Participant  FixationNumber  Start    End  TokenIdx\n4    IsPrime            1               4  1.148  1.348         1\n5    IsPrime            1               5  1.372  1.524         0\n7    IsPrime            1               7  1.848  2.144         1\n8    IsPrime            1               8  2.172  2.384         2\n10   IsPrime            1              10  2.728  2.932         3",
      "text/html": "<div>\n<style scoped>\n    .dataframe tbody tr th:only-of-type {\n        vertical-align: middle;\n    }\n\n    .dataframe tbody tr th {\n        vertical-align: top;\n    }\n\n    .dataframe thead th {\n        text-align: right;\n    }\n</style>\n<table border=\"1\" class=\"dataframe\">\n  <thead>\n    <tr style=\"text-align: right;\">\n      <th></th>\n      <th>Algorithm</th>\n      <th>Participant</th>\n      <th>FixationNumber</th>\n      <th>Start</th>\n      <th>End</th>\n      <th>TokenIdx</th>\n    </tr>\n  </thead>\n  <tbody>\n    <tr>\n      <th>4</th>\n      <td>IsPrime</td>\n      <td>1</td>\n      <td>4</td>\n      <td>1.148</td>\n      <td>1.348</td>\n      <td>1</td>\n    </tr>\n    <tr>\n      <th>5</th>\n      <td>IsPrime</td>\n      <td>1</td>\n      <td>5</td>\n      <td>1.372</td>\n      <td>1.524</td>\n      <td>0</td>\n    </tr>\n    <tr>\n      <th>7</th>\n      <td>IsPrime</td>\n      <td>1</td>\n      <td>7</td>\n      <td>1.848</td>\n      <td>2.144</td>\n      <td>1</td>\n    </tr>\n    <tr>\n      <th>8</th>\n      <td>IsPrime</td>\n      <td>1</td>\n      <td>8</td>\n      <td>2.172</td>\n      <td>2.384</td>\n      <td>2</td>\n    </tr>\n    <tr>\n      <th>10</th>\n      <td>IsPrime</td>\n      <td>1</td>\n      <td>10</td>\n      <td>2.728</td>\n      <td>2.932</td>\n      <td>3</td>\n    </tr>\n  </tbody>\n</table>\n</div>"
     },
     "execution_count": 11,
     "metadata": {},
     "output_type": "execute_result"
    }
   ],
   "source": [
    "df_token_fixation_per_participant = df_token_fixation_per_participant[df_token_fixation_per_participant[\"TokenIdx\"].isna() == False]\n",
    "df_token_fixation_per_participant[\"TokenIdx\"] = df_token_fixation_per_participant[\"TokenIdx\"].astype(int)\n",
    "df_token_fixation_per_participant.head(5)"
   ],
   "metadata": {
    "collapsed": false,
    "pycharm": {
     "name": "#%%\n"
    }
   }
  },
  {
   "cell_type": "markdown",
   "source": [
    "### Transform the Data to a Fixation/ Refixation split by Participant"
   ],
   "metadata": {
    "collapsed": false,
    "pycharm": {
     "name": "#%% md\n"
    }
   }
  },
  {
   "cell_type": "code",
   "execution_count": 12,
   "outputs": [
    {
     "data": {
      "text/plain": "  0%|          | 0/53512 [00:00<?, ?it/s]",
      "application/vnd.jupyter.widget-view+json": {
       "version_major": 2,
       "version_minor": 0,
       "model_id": "4de90d522280459f97325aac1ece7f88"
      }
     },
     "metadata": {},
     "output_type": "display_data"
    },
    {
     "data": {
      "text/plain": "      Algorithm TokenIdx       TokenFixation_P1     TokenReFixation_P1  \\\n0       IsPrime        0   [0.1519999999999999]                     []   \n1       IsPrime        1  [0.20000000000000018]  [0.29600000000000004]   \n2       IsPrime        2  [0.21199999999999974]                     []   \n3       IsPrime        3  [0.20399999999999974]  [0.20000000000000107]   \n4       IsPrime        4                     []                     []   \n...         ...      ...                    ...                    ...   \n2700  Rectangle       82                     []                     []   \n2701  Rectangle       83                     []                     []   \n2702  Rectangle       84  [0.04400000000000048]                     []   \n2703  Rectangle       85                     []                     []   \n2704  Rectangle       86                     []                     []   \n\n                                TokenFixation_P2  \\\n0     [0.17999999999999972, 0.07600000000000007]   \n1                          [0.19199999999999995]   \n2                          [0.19199999999999995]   \n3                                             []   \n4                                             []   \n...                                          ...   \n2700                                          []   \n2701                                          []   \n2702                                          []   \n2703                                          []   \n2704                                          []   \n\n                                     TokenReFixation_P2      TokenFixation_P3  \\\n0                                 [0.14000000000000012]                    []   \n1     [0.09600000000000009, 0.04800000000000004, 0.1...                    []   \n2     [0.18800000000000017, 0.04800000000000004, 0.1...               [0.196]   \n3                                                    []  [0.2240000000000002]   \n4                                                    []                    []   \n...                                                 ...                   ...   \n2700                                                 []                    []   \n2701                                                 []                    []   \n2702                                                 []                    []   \n2703                                                 []                    []   \n2704                                                 []                    []   \n\n     TokenReFixation_P3       TokenFixation_P4     TokenReFixation_P4  ...  \\\n0                    []                     []                     []  ...   \n1                    []  [0.15600000000000058]                     []  ...   \n2                    []   [0.2559999999999998]   [0.1479999999999997]  ...   \n3                    []  [0.12400000000000011]  [0.04800000000000004]  ...   \n4                    []                     []                     []  ...   \n...                 ...                    ...                    ...  ...   \n2700                 []                     []                     []  ...   \n2701                 []                     []                     []  ...   \n2702                 []                     []                     []  ...   \n2703                 []                     []                     []  ...   \n2704                 []                     []                     []  ...   \n\n                               TokenFixation_P66  \\\n0                                             []   \n1                                             []   \n2                           [0.1479999999999997]   \n3     [0.49599999999999955, 0.12400000000000055]   \n4                          [0.19200000000000017]   \n...                                          ...   \n2700                                          []   \n2701                                          []   \n2702                                          []   \n2703                                          []   \n2704                                          []   \n\n                                    TokenReFixation_P66  \\\n0                                                    []   \n1                                                    []   \n2     [0.0519999999999996, 0.1880000000000006, 0.279...   \n3                                 [0.09200000000000053]   \n4                                                    []   \n...                                                 ...   \n2700                                                 []   \n2701                                                 []   \n2702                                                 []   \n2703                                                 []   \n2704                                                 []   \n\n                                TokenFixation_P67  \\\n0        [0.0519999999999996, 0.0519999999999996]   \n1     [0.052000000000000046, 0.20000000000000018]   \n2                           [0.09999999999999964]   \n3       [0.0519999999999996, 0.37599999999999945]   \n4                                              []   \n...                                           ...   \n2700                                           []   \n2701                                           []   \n2702                                           []   \n2703                                           []   \n2704                                           []   \n\n                                    TokenReFixation_P67  \\\n0                                                    []   \n1     [0.04800000000000004, 0.09999999999999964, 0.1...   \n2     [0.06400000000000006, 0.14400000000000013, 0.0...   \n3     [0.2759999999999998, 0.06400000000000006, 0.04...   \n4                                                    []   \n...                                                 ...   \n2700                                                 []   \n2701                                                 []   \n2702                                                 []   \n2703                                                 []   \n2704                                                 []   \n\n                             TokenFixation_P68  \\\n0                                           []   \n1                         [0.3400000000000003]   \n2                 [0.048, 0.06399999999999997]   \n3     [0.1719999999999997, 0.1120000000000001]   \n4                                           []   \n...                                        ...   \n2700                                        []   \n2701                                        []   \n2702                                        []   \n2703                                        []   \n2704                                        []   \n\n                                    TokenReFixation_P68 TokenFixation_P70  \\\n0                                                    []                []   \n1            [0.21999999999999975, 0.16000000000000014]           [0.048]   \n2     [0.08399999999999963, 0.3879999999999999, 0.22...                []   \n3                                 [0.08800000000000097]                []   \n4                                                    []                []   \n...                                                 ...               ...   \n2700                                                 []                []   \n2701                                                 []                []   \n2702                                                 []                []   \n2703                                                 []                []   \n2704                                                 []                []   \n\n     TokenReFixation_P70      TokenFixation_P71   TokenReFixation_P71  \n0                     []                     []                    []  \n1                     []   [0.1759999999999997]                    []  \n2                     []   [0.1080000000000001]  [0.1280000000000001]  \n3                     []  [0.06400000000000006]                    []  \n4                     []                     []                    []  \n...                  ...                    ...                   ...  \n2700                  []                     []                    []  \n2701                  []                     []                    []  \n2702                  []                     []                    []  \n2703                  []                     []                    []  \n2704                  []                     []                    []  \n\n[2705 rows x 76 columns]",
      "text/html": "<div>\n<style scoped>\n    .dataframe tbody tr th:only-of-type {\n        vertical-align: middle;\n    }\n\n    .dataframe tbody tr th {\n        vertical-align: top;\n    }\n\n    .dataframe thead th {\n        text-align: right;\n    }\n</style>\n<table border=\"1\" class=\"dataframe\">\n  <thead>\n    <tr style=\"text-align: right;\">\n      <th></th>\n      <th>Algorithm</th>\n      <th>TokenIdx</th>\n      <th>TokenFixation_P1</th>\n      <th>TokenReFixation_P1</th>\n      <th>TokenFixation_P2</th>\n      <th>TokenReFixation_P2</th>\n      <th>TokenFixation_P3</th>\n      <th>TokenReFixation_P3</th>\n      <th>TokenFixation_P4</th>\n      <th>TokenReFixation_P4</th>\n      <th>...</th>\n      <th>TokenFixation_P66</th>\n      <th>TokenReFixation_P66</th>\n      <th>TokenFixation_P67</th>\n      <th>TokenReFixation_P67</th>\n      <th>TokenFixation_P68</th>\n      <th>TokenReFixation_P68</th>\n      <th>TokenFixation_P70</th>\n      <th>TokenReFixation_P70</th>\n      <th>TokenFixation_P71</th>\n      <th>TokenReFixation_P71</th>\n    </tr>\n  </thead>\n  <tbody>\n    <tr>\n      <th>0</th>\n      <td>IsPrime</td>\n      <td>0</td>\n      <td>[0.1519999999999999]</td>\n      <td>[]</td>\n      <td>[0.17999999999999972, 0.07600000000000007]</td>\n      <td>[0.14000000000000012]</td>\n      <td>[]</td>\n      <td>[]</td>\n      <td>[]</td>\n      <td>[]</td>\n      <td>...</td>\n      <td>[]</td>\n      <td>[]</td>\n      <td>[0.0519999999999996, 0.0519999999999996]</td>\n      <td>[]</td>\n      <td>[]</td>\n      <td>[]</td>\n      <td>[]</td>\n      <td>[]</td>\n      <td>[]</td>\n      <td>[]</td>\n    </tr>\n    <tr>\n      <th>1</th>\n      <td>IsPrime</td>\n      <td>1</td>\n      <td>[0.20000000000000018]</td>\n      <td>[0.29600000000000004]</td>\n      <td>[0.19199999999999995]</td>\n      <td>[0.09600000000000009, 0.04800000000000004, 0.1...</td>\n      <td>[]</td>\n      <td>[]</td>\n      <td>[0.15600000000000058]</td>\n      <td>[]</td>\n      <td>...</td>\n      <td>[]</td>\n      <td>[]</td>\n      <td>[0.052000000000000046, 0.20000000000000018]</td>\n      <td>[0.04800000000000004, 0.09999999999999964, 0.1...</td>\n      <td>[0.3400000000000003]</td>\n      <td>[0.21999999999999975, 0.16000000000000014]</td>\n      <td>[0.048]</td>\n      <td>[]</td>\n      <td>[0.1759999999999997]</td>\n      <td>[]</td>\n    </tr>\n    <tr>\n      <th>2</th>\n      <td>IsPrime</td>\n      <td>2</td>\n      <td>[0.21199999999999974]</td>\n      <td>[]</td>\n      <td>[0.19199999999999995]</td>\n      <td>[0.18800000000000017, 0.04800000000000004, 0.1...</td>\n      <td>[0.196]</td>\n      <td>[]</td>\n      <td>[0.2559999999999998]</td>\n      <td>[0.1479999999999997]</td>\n      <td>...</td>\n      <td>[0.1479999999999997]</td>\n      <td>[0.0519999999999996, 0.1880000000000006, 0.279...</td>\n      <td>[0.09999999999999964]</td>\n      <td>[0.06400000000000006, 0.14400000000000013, 0.0...</td>\n      <td>[0.048, 0.06399999999999997]</td>\n      <td>[0.08399999999999963, 0.3879999999999999, 0.22...</td>\n      <td>[]</td>\n      <td>[]</td>\n      <td>[0.1080000000000001]</td>\n      <td>[0.1280000000000001]</td>\n    </tr>\n    <tr>\n      <th>3</th>\n      <td>IsPrime</td>\n      <td>3</td>\n      <td>[0.20399999999999974]</td>\n      <td>[0.20000000000000107]</td>\n      <td>[]</td>\n      <td>[]</td>\n      <td>[0.2240000000000002]</td>\n      <td>[]</td>\n      <td>[0.12400000000000011]</td>\n      <td>[0.04800000000000004]</td>\n      <td>...</td>\n      <td>[0.49599999999999955, 0.12400000000000055]</td>\n      <td>[0.09200000000000053]</td>\n      <td>[0.0519999999999996, 0.37599999999999945]</td>\n      <td>[0.2759999999999998, 0.06400000000000006, 0.04...</td>\n      <td>[0.1719999999999997, 0.1120000000000001]</td>\n      <td>[0.08800000000000097]</td>\n      <td>[]</td>\n      <td>[]</td>\n      <td>[0.06400000000000006]</td>\n      <td>[]</td>\n    </tr>\n    <tr>\n      <th>4</th>\n      <td>IsPrime</td>\n      <td>4</td>\n      <td>[]</td>\n      <td>[]</td>\n      <td>[]</td>\n      <td>[]</td>\n      <td>[]</td>\n      <td>[]</td>\n      <td>[]</td>\n      <td>[]</td>\n      <td>...</td>\n      <td>[0.19200000000000017]</td>\n      <td>[]</td>\n      <td>[]</td>\n      <td>[]</td>\n      <td>[]</td>\n      <td>[]</td>\n      <td>[]</td>\n      <td>[]</td>\n      <td>[]</td>\n      <td>[]</td>\n    </tr>\n    <tr>\n      <th>...</th>\n      <td>...</td>\n      <td>...</td>\n      <td>...</td>\n      <td>...</td>\n      <td>...</td>\n      <td>...</td>\n      <td>...</td>\n      <td>...</td>\n      <td>...</td>\n      <td>...</td>\n      <td>...</td>\n      <td>...</td>\n      <td>...</td>\n      <td>...</td>\n      <td>...</td>\n      <td>...</td>\n      <td>...</td>\n      <td>...</td>\n      <td>...</td>\n      <td>...</td>\n      <td>...</td>\n    </tr>\n    <tr>\n      <th>2700</th>\n      <td>Rectangle</td>\n      <td>82</td>\n      <td>[]</td>\n      <td>[]</td>\n      <td>[]</td>\n      <td>[]</td>\n      <td>[]</td>\n      <td>[]</td>\n      <td>[]</td>\n      <td>[]</td>\n      <td>...</td>\n      <td>[]</td>\n      <td>[]</td>\n      <td>[]</td>\n      <td>[]</td>\n      <td>[]</td>\n      <td>[]</td>\n      <td>[]</td>\n      <td>[]</td>\n      <td>[]</td>\n      <td>[]</td>\n    </tr>\n    <tr>\n      <th>2701</th>\n      <td>Rectangle</td>\n      <td>83</td>\n      <td>[]</td>\n      <td>[]</td>\n      <td>[]</td>\n      <td>[]</td>\n      <td>[]</td>\n      <td>[]</td>\n      <td>[]</td>\n      <td>[]</td>\n      <td>...</td>\n      <td>[]</td>\n      <td>[]</td>\n      <td>[]</td>\n      <td>[]</td>\n      <td>[]</td>\n      <td>[]</td>\n      <td>[]</td>\n      <td>[]</td>\n      <td>[]</td>\n      <td>[]</td>\n    </tr>\n    <tr>\n      <th>2702</th>\n      <td>Rectangle</td>\n      <td>84</td>\n      <td>[0.04400000000000048]</td>\n      <td>[]</td>\n      <td>[]</td>\n      <td>[]</td>\n      <td>[]</td>\n      <td>[]</td>\n      <td>[]</td>\n      <td>[]</td>\n      <td>...</td>\n      <td>[]</td>\n      <td>[]</td>\n      <td>[]</td>\n      <td>[]</td>\n      <td>[]</td>\n      <td>[]</td>\n      <td>[]</td>\n      <td>[]</td>\n      <td>[]</td>\n      <td>[]</td>\n    </tr>\n    <tr>\n      <th>2703</th>\n      <td>Rectangle</td>\n      <td>85</td>\n      <td>[]</td>\n      <td>[]</td>\n      <td>[]</td>\n      <td>[]</td>\n      <td>[]</td>\n      <td>[]</td>\n      <td>[]</td>\n      <td>[]</td>\n      <td>...</td>\n      <td>[]</td>\n      <td>[]</td>\n      <td>[]</td>\n      <td>[]</td>\n      <td>[]</td>\n      <td>[]</td>\n      <td>[]</td>\n      <td>[]</td>\n      <td>[]</td>\n      <td>[]</td>\n    </tr>\n    <tr>\n      <th>2704</th>\n      <td>Rectangle</td>\n      <td>86</td>\n      <td>[]</td>\n      <td>[]</td>\n      <td>[]</td>\n      <td>[]</td>\n      <td>[]</td>\n      <td>[]</td>\n      <td>[]</td>\n      <td>[]</td>\n      <td>...</td>\n      <td>[]</td>\n      <td>[]</td>\n      <td>[]</td>\n      <td>[]</td>\n      <td>[]</td>\n      <td>[]</td>\n      <td>[]</td>\n      <td>[]</td>\n      <td>[]</td>\n      <td>[]</td>\n    </tr>\n  </tbody>\n</table>\n<p>2705 rows × 76 columns</p>\n</div>"
     },
     "execution_count": 12,
     "metadata": {},
     "output_type": "execute_result"
    }
   ],
   "source": [
    "df_token = df_token_aois.copy()\n",
    "df_token = df_token.drop([\"BoundingBox\", \"Token\"], axis=1)\n",
    "for participant in participants:\n",
    "    # add new column with empty lists for each participant\n",
    "    df_token[f\"TokenFixation_P{participant}\"] = df_token.apply(lambda row: [], axis=1)\n",
    "    df_token[f\"TokenReFixation_P{participant}\"] = df_token.apply(lambda row: [], axis=1)\n",
    "\n",
    "\n",
    "prev_participant = df_token_fixation_per_participant[\"Participant\"].iloc[0]\n",
    "prev_token_idx = df_token_fixation_per_participant[\"TokenIdx\"].iloc[0]\n",
    "prev_algorithm = df_token_fixation_per_participant[\"Algorithm\"].iloc[0]\n",
    "fixations = []\n",
    "re_fixation = False\n",
    "for idx, row in tqdm(df_token_fixation_per_participant.iterrows(), total=len(df_token_fixation_per_participant)):\n",
    "    participant = row[\"Participant\"]\n",
    "    token_idx = row[\"TokenIdx\"]\n",
    "    algorithm = row[\"Algorithm\"]\n",
    "    FixationDuration = row[\"End\"] - row[\"Start\"]\n",
    "\n",
    "    # fixation switches\n",
    "    if prev_participant != participant or prev_token_idx != token_idx:\n",
    "        index = df_token[(df_token[\"TokenIdx\"] == prev_token_idx) & (df_token[\"Algorithm\"] == prev_algorithm)].index[0]\n",
    "        if re_fixation:\n",
    "            re_fixations = df_token.loc[index, f\"TokenReFixation_P{prev_participant}\"]\n",
    "            re_fixations.extend(fixations.copy())\n",
    "            df_token.loc[index, f\"TokenReFixation_P{prev_participant}\"] = re_fixations.copy()\n",
    "        else:\n",
    "            df_token.loc[index, f\"TokenFixation_P{prev_participant}\"] = fixations.copy()\n",
    "        fixations = []\n",
    "        # possible new fixation\n",
    "        re_fixation = False\n",
    "\n",
    "    sub_frame = df_token[(df_token[\"TokenIdx\"] == token_idx) & (df_token[\"Algorithm\"] == algorithm)]\n",
    "    if len(sub_frame) == 0:\n",
    "        raise Exception(f\"No Token found for {token_idx} in Algorithm {algorithm}\")\n",
    "    len_of_fixation = len(sub_frame[f\"TokenFixation_P{participant}\"].iloc[0])\n",
    "    if re_fixation == False and len_of_fixation > 0 and len(fixations) == 0:\n",
    "        re_fixation = True\n",
    "\n",
    "    fixations.append(FixationDuration)\n",
    "    prev_participant = participant\n",
    "    prev_token_idx = token_idx\n",
    "    prev_algorithm = algorithm\n",
    "\n",
    "df_token"
   ],
   "metadata": {
    "collapsed": false,
    "pycharm": {
     "name": "#%%\n"
    }
   }
  },
  {
   "cell_type": "markdown",
   "source": [
    "### Calculate the Token Based Eyetracking Metrics"
   ],
   "metadata": {
    "collapsed": false,
    "pycharm": {
     "name": "#%% md\n"
    }
   }
  },
  {
   "cell_type": "code",
   "execution_count": 13,
   "outputs": [
    {
     "data": {
      "text/plain": "FirstFixationDuration              -0.181417\nSingleFixationDuration             -0.192109\nGazeDuration                       -0.188401\nTotalTime                          -0.399142\nTokenNoFixationProbability          0.315480\nTokenSingleFixationProbability     -0.393085\nTokenMultipleFixationProbability   -0.563707\nTokenFixationProbability           -0.509573\nSkill                               1.000000\ndtype: float64"
     },
     "execution_count": 13,
     "metadata": {},
     "output_type": "execute_result"
    }
   ],
   "source": [
    "# Melt the Dataframe to be thinner so that we have Algorithm TokenIdx and Participant and Keys per Fixation / Refixation\n",
    "df_token_melted = pd.melt(df_token, id_vars=[\"Algorithm\", \"TokenIdx\"], var_name=\"KindOfFixation\", value_name=\"FixationDurations\")\n",
    "\n",
    "# Classify Participant and the Kind and Number of Fixations / Refixations\n",
    "df_token_melted[\"Participant\"] = df_token_melted[\"KindOfFixation\"].apply(lambda x: int(x.split(\"_\")[1][1:]))\n",
    "df_token_melted[\"KindOfFixation\"] = df_token_melted[\"KindOfFixation\"].apply(lambda x: x.split(\"_\")[0])\n",
    "df_token_melted[\"KindOfFixation\"] = df_token_melted[\"KindOfFixation\"].apply(lambda x: \"Fixation\" if x == \"TokenFixation\" else \"ReFixation\")\n",
    "df_token_melted[\"NumberOfFixations\"] = df_token_melted[\"FixationDurations\"].apply(lambda x: len(x))\n",
    "\n",
    "# Get the number of Participants for further calculations\n",
    "number_of_participants = len(participants)\n",
    "\n",
    "# Calculate the First Fixation Duration per Participant per Token\n",
    "df_token_melted[\"FirstFixationDuration\"] = None\n",
    "df_token_melted.loc[df_token_melted[\"KindOfFixation\"] == \"Fixation\" , \"FirstFixationDuration\"] = df_token_melted[\"FixationDurations\"]\\\n",
    "    .apply(lambda x: x[0] if len(x) > 0 else None)\n",
    "\n",
    "# Calculate the Single Fixation Duration per Participant per Token\n",
    "df_token_melted[\"SingleFixationDuration\"] = None\n",
    "df_token_melted.loc[df_token_melted[\"KindOfFixation\"] == \"Fixation\" , \"SingleFixationDuration\"] = df_token_melted[\"FixationDurations\"]\\\n",
    "    .apply(lambda x: x[0] if len(x) == 1 else None)\n",
    "\n",
    "# Calculate the Gaze Duration per Participant per Token\n",
    "df_token_melted[\"GazeDuration\"] = None\n",
    "df_token_melted.loc[df_token_melted[\"KindOfFixation\"] == \"Fixation\" , \"GazeDuration\"] = df_token_melted[\"FixationDurations\"]\\\n",
    "    .apply(lambda x: sum(x) if len(x) > 0 else None)\n",
    "\n",
    "# Calculate the Total Time per Participant per Token\n",
    "df_token_melted_total_time = df_token_melted.groupby([\"Participant\", \"Algorithm\", \"TokenIdx\"])\\\n",
    "    .agg({\"FixationDurations\": lambda x: sum(x.values.sum())})\n",
    "df_token_melted_total_time = df_token_melted_total_time.rename(columns={\"FixationDurations\": \"TotalTime\"})\n",
    "\n",
    "# Merge the Dataframes\n",
    "df_token_melted = pd.merge(df_token_melted, df_token_melted_total_time, on=[\"Participant\", \"Algorithm\", \"TokenIdx\"], how=\"left\")\n",
    "\n",
    "# Cast the Dataframes to the right datatype\n",
    "df_token_melted[\"FirstFixationDuration\"] = df_token_melted[\"FirstFixationDuration\"].astype(float)\n",
    "df_token_melted[\"SingleFixationDuration\"] = df_token_melted[\"SingleFixationDuration\"].astype(float)\n",
    "df_token_melted[\"GazeDuration\"] = df_token_melted[\"GazeDuration\"].astype(float)\n",
    "df_token_melted[\"TotalTime\"] = df_token_melted[\"TotalTime\"].astype(float).replace(0, np.nan)\n",
    "\n",
    "# Read in the Skilllevel\n",
    "df_skill = pd.read_csv(f\"./data/filteredData/filtered_data.csv\")\n",
    "df_skill = df_skill[[\"Participant\", \"SkillScore\"]]\n",
    "df_skill = df_skill.drop_duplicates()\n",
    "\n",
    "# Merge the Dataframes to combine metrics with the Skilllevel\n",
    "df_metrics_skill = pd.merge(df_token_melted, df_skill, on=[\"Participant\"], how=\"left\")\n",
    "\n",
    "# Helper Methods for the Metrics\n",
    "def get_no_fixations(df):\n",
    "    df_fixations = df[df[\"KindOfFixation\"] == \"Fixation\"]\n",
    "    # remove every entry from df fixations on [\"Algorithm\", \"TokenIdx\"] where there is a refixation6\n",
    "    df_fixations = df_fixations[df_fixations[\"NumberOfFixations\"] == 0]\n",
    "    return df_fixations\n",
    "\n",
    "\n",
    "def get_single_fixations(df):\n",
    "    df_fixations = df[df[\"KindOfFixation\"] == \"Fixation\"]\n",
    "    df_refixations = df[df[\"KindOfFixation\"] == \"ReFixation\"]\n",
    "    df_refixations = df_refixations[df_refixations[\"NumberOfFixations\"] > 0]\n",
    "    # remove every entry from df fixations on [\"Algorithm\", \"TokenIdx\"] where there is a refixation6\n",
    "    df_fixations = df_fixations[~df_fixations[\"TokenIdx\"].isin(df_refixations[\"TokenIdx\"].values)]\n",
    "    # remove every entry from df fixations on where Number Of Fixations is not 1\n",
    "    df_fixations = df_fixations[df_fixations[\"NumberOfFixations\"] == 1]\n",
    "    return df_fixations\n",
    "\n",
    "def get_multiple_fixations(df):\n",
    "    df_fixations = df[df[\"KindOfFixation\"] == \"Fixation\"]\n",
    "    df_refixations = df[df[\"KindOfFixation\"] == \"ReFixation\"]\n",
    "    df_refixations = df_refixations[df_refixations[\"NumberOfFixations\"] > 0]\n",
    "    # remove every entry from df fixations on [\"Algorithm\", \"TokenIdx\"] where there is a refixation6\n",
    "    df_fixations = df_fixations[(df_fixations[\"TokenIdx\"].isin(df_refixations[\"TokenIdx\"].values)) & (df_fixations[\"NumberOfFixations\"] >= 1)]\n",
    "    return df_fixations\n",
    "\n",
    "def get_fixations(df):\n",
    "    df_fixations = df[df[\"KindOfFixation\"] == \"Fixation\"]\n",
    "    # remove every entry from df fixations on where no Fixation is found\n",
    "    df_fixations = df_fixations[df_fixations[\"NumberOfFixations\"] >= 1]\n",
    "    return df_fixations\n",
    "\n",
    "\n",
    "\n",
    "# dataframe for number of fixations per participant\n",
    "number_of_fixation_per_algorithm = df_metrics_skill.groupby([\"Participant\", \"Algorithm\"])[\"NumberOfFixations\"].count()\n",
    "number_of_fixation_per_algorithm = number_of_fixation_per_algorithm.reset_index()\n",
    "\n",
    "# dataframe for number of tokens per algorithm\n",
    "number_of_tokens_per_algorithm = df_metrics_skill.groupby([\"Algorithm\"])[\"TokenIdx\"].max()\n",
    "number_of_tokens_per_algorithm = number_of_tokens_per_algorithm.reset_index()\n",
    "\n",
    "# dataframe for number of tokens with no fixation per algorithm per participant\n",
    "df_no_fixation_per_algorithm = df_metrics_skill.groupby([\"Participant\", \"Algorithm\"])\\\n",
    "    .apply(get_no_fixations)\\\n",
    "    .drop([\"Algorithm\"], axis=1)\n",
    "\n",
    "# dataframe for number of tokens with only one fixation per algorithm per participant\n",
    "df_single_fixation_per_algorithm = df_metrics_skill.groupby([\"Participant\", \"Algorithm\"])\\\n",
    "    .apply(get_single_fixations)\\\n",
    "    .drop([\"Algorithm\"], axis=1)\n",
    "\n",
    "# dataframe for number of tokens with more than one fixation per algorithm per participant\n",
    "df_multiple_fixation_per_algorithm = df_metrics_skill.groupby([\"Participant\", \"Algorithm\"])\\\n",
    "    .apply(get_multiple_fixations)\\\n",
    "    .drop([\"Algorithm\"], axis=1)\n",
    "\n",
    "# dataframe for number of tokens with more or equal than one fixation per algorithm per participant\n",
    "df_fixation_per_algorithm = df_metrics_skill.groupby([\"Participant\", \"Algorithm\"])\\\n",
    "    .apply(get_fixations)\\\n",
    "    .drop([\"Algorithm\"], axis=1)\n",
    "\n",
    "# Reformat the dataframes\n",
    "no_fixation_per_algorithm = df_no_fixation_per_algorithm[[\"TokenIdx\"]]\n",
    "no_fixation_per_algorithm = no_fixation_per_algorithm.reset_index().drop([\"level_2\"], axis=1)\n",
    "\n",
    "single_fixation_per_algorithm = df_single_fixation_per_algorithm[[\"TokenIdx\"]]\n",
    "single_fixation_per_algorithm = single_fixation_per_algorithm.reset_index().drop([\"level_2\"], axis=1)\n",
    "\n",
    "multiple_fixation_per_algorithm = df_multiple_fixation_per_algorithm[[\"TokenIdx\"]]\n",
    "multiple_fixation_per_algorithm = multiple_fixation_per_algorithm.reset_index().drop([\"level_2\"], axis=1)\n",
    "\n",
    "fixations_per_algorithm = df_fixation_per_algorithm[[\"TokenIdx\"]]\n",
    "fixations_per_algorithm = fixations_per_algorithm.reset_index().drop([\"level_2\"], axis=1)\n",
    "\n",
    "# Helper Method for Probability Metrics\n",
    "def group_len_divided_by_number(current_df, counting_df):\n",
    "    algorithm = current_df[\"Algorithm\"].iloc[0]\n",
    "    number_of_tokens = counting_df[counting_df[\"Algorithm\"] == algorithm][\"TokenIdx\"].iloc[0]\n",
    "    value = len(current_df) / number_of_tokens\n",
    "    return len(current_df) / (number_of_tokens + 1)\n",
    "\n",
    "# Calculate the Metrics per Participant\n",
    "# Probability of no fixation\n",
    "df_no_fixation_probability = no_fixation_per_algorithm.groupby([\"Participant\", \"Algorithm\"]).apply(lambda df: group_len_divided_by_number(df, number_of_tokens_per_algorithm))\n",
    "df_no_fixation_probability = df_no_fixation_probability.reset_index()\n",
    "\n",
    "# Probability of single fixation\n",
    "df_single_fixation_probability = single_fixation_per_algorithm.groupby([\"Participant\", \"Algorithm\"]).apply(lambda df: group_len_divided_by_number(df, number_of_tokens_per_algorithm))\n",
    "df_single_fixation_probability = df_single_fixation_probability.reset_index()\n",
    "\n",
    "# Probability of multiple fixation\n",
    "df_multiple_fixation_probability = multiple_fixation_per_algorithm.groupby([\"Participant\", \"Algorithm\"]).apply(lambda df: group_len_divided_by_number(df, number_of_tokens_per_algorithm))\n",
    "df_multiple_fixation_probability = df_multiple_fixation_probability.reset_index()\n",
    "\n",
    "# Probability of fixation\n",
    "df_fixation_probability = fixations_per_algorithm.groupby([\"Participant\", \"Algorithm\"]).apply(lambda df: group_len_divided_by_number(df, number_of_tokens_per_algorithm))\n",
    "df_fixation_probability = df_fixation_probability.reset_index()\n",
    "\n",
    "# Calculate the means for the metrics per algorithm\n",
    "df_no_fixation_probability = df_no_fixation_probability.groupby([\"Participant\"]).mean()\n",
    "df_single_fixation_probability = df_single_fixation_probability.groupby([\"Participant\"]).mean()\n",
    "df_multiple_fixation_probability = df_multiple_fixation_probability.groupby([\"Participant\"]).mean()\n",
    "df_fixation_probability = df_fixation_probability.groupby([\"Participant\"]).mean()\n",
    "\n",
    "# Raw Durations Metrics\n",
    "# Duration of first fixation\n",
    "df_first_fixation = df_metrics_skill[~df_metrics_skill[\"FirstFixationDuration\"].isnull()]\n",
    "df_first_fixation = df_first_fixation.groupby([\"Participant\"])[\"FirstFixationDuration\"].mean()\n",
    "\n",
    "# Duration of single fixation\n",
    "df_single_fixation = df_metrics_skill[~df_metrics_skill[\"SingleFixationDuration\"].isnull()]\n",
    "df_single_fixation = df_single_fixation.groupby([\"Participant\"])[\"SingleFixationDuration\"].mean()\n",
    "\n",
    "# Duration of gaze duration\n",
    "df_gaze_duration = df_metrics_skill[~df_metrics_skill[\"GazeDuration\"].isnull()]\n",
    "df_gaze_duration = df_gaze_duration.groupby([\"Participant\"])[\"GazeDuration\"].mean()\n",
    "\n",
    "# Total Time\n",
    "df_total_time = df_metrics_skill[~df_metrics_skill[\"TotalTime\"].isnull()]\n",
    "df_total_time = df_total_time.groupby([\"Participant\"])[\"TotalTime\"].mean()\n",
    "\n",
    "\n",
    "\n",
    "# Put every metric dataframe together into one\n",
    "df_combined = pd.DataFrame({\"FirstFixationDuration\": df_first_fixation.values,\n",
    "                            \"SingleFixationDuration\": df_single_fixation.values,\n",
    "                            \"GazeDuration\": df_gaze_duration.values,\n",
    "                            \"TotalTime\": df_total_time.values,\n",
    "                            \"TokenNoFixationProbability\": df_no_fixation_probability.values.reshape(37, ),\n",
    "                            \"TokenSingleFixationProbability\": df_single_fixation_probability.values.reshape(37, ),\n",
    "                            \"TokenMultipleFixationProbability\": df_multiple_fixation_probability.values.reshape(37, ),\n",
    "                            \"TokenFixationProbability\": df_fixation_probability.values.reshape(37, ),\n",
    "                            \"Skill\": df_metrics_skill.groupby([\"Participant\"])[\"SkillScore\"].mean().values})\n",
    "# get spearman correlation for metrics and skill level\n",
    "df_combined.corrwith(df_combined[\"Skill\"])"
   ],
   "metadata": {
    "collapsed": false,
    "pycharm": {
     "name": "#%%\n"
    }
   }
  },
  {
   "cell_type": "code",
   "execution_count": 14,
   "outputs": [
    {
     "data": {
      "text/plain": "       FirstFixationDuration  SingleFixationDuration  GazeDuration  TotalTime  \\\ncount              37.000000               37.000000     37.000000  37.000000   \nmean                0.169443                0.170140      0.183969   0.382657   \nstd                 0.031279                0.031822      0.035892   0.094706   \nmin                 0.111995                0.111625      0.119901   0.218404   \n25%                 0.145967                0.146925      0.157881   0.327738   \n50%                 0.166088                0.165864      0.183676   0.378384   \n75%                 0.187280                0.189424      0.205408   0.414835   \nmax                 0.242461                0.246199      0.281058   0.677665   \n\n       TokenNoFixationProbability  TokenSingleFixationProbability  \\\ncount                   37.000000                       37.000000   \nmean                     0.754487                        0.152598   \nstd                      0.067375                        0.036204   \nmin                      0.646419                        0.046273   \n25%                      0.702035                        0.141269   \n50%                      0.762657                        0.151439   \n75%                      0.795479                        0.174971   \nmax                      0.949210                        0.247443   \n\n       TokenMultipleFixationProbability  TokenFixationProbability      Skill  \ncount                         37.000000                 37.000000  37.000000  \nmean                           0.136958                  0.285131   0.325230  \nstd                            0.050866                  0.087936   0.102510  \nmin                            0.044758                  0.081264   0.142520  \n25%                            0.099161                  0.225679   0.259896  \n50%                            0.131585                  0.282632   0.315932  \n75%                            0.168770                  0.336705   0.379187  \nmax                            0.300986                  0.563852   0.656726  ",
      "text/html": "<div>\n<style scoped>\n    .dataframe tbody tr th:only-of-type {\n        vertical-align: middle;\n    }\n\n    .dataframe tbody tr th {\n        vertical-align: top;\n    }\n\n    .dataframe thead th {\n        text-align: right;\n    }\n</style>\n<table border=\"1\" class=\"dataframe\">\n  <thead>\n    <tr style=\"text-align: right;\">\n      <th></th>\n      <th>FirstFixationDuration</th>\n      <th>SingleFixationDuration</th>\n      <th>GazeDuration</th>\n      <th>TotalTime</th>\n      <th>TokenNoFixationProbability</th>\n      <th>TokenSingleFixationProbability</th>\n      <th>TokenMultipleFixationProbability</th>\n      <th>TokenFixationProbability</th>\n      <th>Skill</th>\n    </tr>\n  </thead>\n  <tbody>\n    <tr>\n      <th>count</th>\n      <td>37.000000</td>\n      <td>37.000000</td>\n      <td>37.000000</td>\n      <td>37.000000</td>\n      <td>37.000000</td>\n      <td>37.000000</td>\n      <td>37.000000</td>\n      <td>37.000000</td>\n      <td>37.000000</td>\n    </tr>\n    <tr>\n      <th>mean</th>\n      <td>0.169443</td>\n      <td>0.170140</td>\n      <td>0.183969</td>\n      <td>0.382657</td>\n      <td>0.754487</td>\n      <td>0.152598</td>\n      <td>0.136958</td>\n      <td>0.285131</td>\n      <td>0.325230</td>\n    </tr>\n    <tr>\n      <th>std</th>\n      <td>0.031279</td>\n      <td>0.031822</td>\n      <td>0.035892</td>\n      <td>0.094706</td>\n      <td>0.067375</td>\n      <td>0.036204</td>\n      <td>0.050866</td>\n      <td>0.087936</td>\n      <td>0.102510</td>\n    </tr>\n    <tr>\n      <th>min</th>\n      <td>0.111995</td>\n      <td>0.111625</td>\n      <td>0.119901</td>\n      <td>0.218404</td>\n      <td>0.646419</td>\n      <td>0.046273</td>\n      <td>0.044758</td>\n      <td>0.081264</td>\n      <td>0.142520</td>\n    </tr>\n    <tr>\n      <th>25%</th>\n      <td>0.145967</td>\n      <td>0.146925</td>\n      <td>0.157881</td>\n      <td>0.327738</td>\n      <td>0.702035</td>\n      <td>0.141269</td>\n      <td>0.099161</td>\n      <td>0.225679</td>\n      <td>0.259896</td>\n    </tr>\n    <tr>\n      <th>50%</th>\n      <td>0.166088</td>\n      <td>0.165864</td>\n      <td>0.183676</td>\n      <td>0.378384</td>\n      <td>0.762657</td>\n      <td>0.151439</td>\n      <td>0.131585</td>\n      <td>0.282632</td>\n      <td>0.315932</td>\n    </tr>\n    <tr>\n      <th>75%</th>\n      <td>0.187280</td>\n      <td>0.189424</td>\n      <td>0.205408</td>\n      <td>0.414835</td>\n      <td>0.795479</td>\n      <td>0.174971</td>\n      <td>0.168770</td>\n      <td>0.336705</td>\n      <td>0.379187</td>\n    </tr>\n    <tr>\n      <th>max</th>\n      <td>0.242461</td>\n      <td>0.246199</td>\n      <td>0.281058</td>\n      <td>0.677665</td>\n      <td>0.949210</td>\n      <td>0.247443</td>\n      <td>0.300986</td>\n      <td>0.563852</td>\n      <td>0.656726</td>\n    </tr>\n  </tbody>\n</table>\n</div>"
     },
     "execution_count": 14,
     "metadata": {},
     "output_type": "execute_result"
    }
   ],
   "source": [
    "df_combined.describe()"
   ],
   "metadata": {
    "collapsed": false,
    "pycharm": {
     "name": "#%%\n"
    }
   }
  },
  {
   "cell_type": "code",
   "execution_count": null,
   "outputs": [],
   "source": [],
   "metadata": {
    "collapsed": false,
    "pycharm": {
     "name": "#%%\n"
    }
   }
  }
 ],
 "metadata": {
  "kernelspec": {
   "display_name": "Python 3",
   "language": "python",
   "name": "python3"
  },
  "language_info": {
   "codemirror_mode": {
    "name": "ipython",
    "version": 2
   },
   "file_extension": ".py",
   "mimetype": "text/x-python",
   "name": "python",
   "nbconvert_exporter": "python",
   "pygments_lexer": "ipython2",
   "version": "2.7.6"
  }
 },
 "nbformat": 4,
 "nbformat_minor": 0
}