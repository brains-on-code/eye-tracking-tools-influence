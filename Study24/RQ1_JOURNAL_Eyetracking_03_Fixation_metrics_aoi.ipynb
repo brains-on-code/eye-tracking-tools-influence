{
 "cells": [
  {
   "cell_type": "markdown",
   "metadata": {
    "collapsed": true,
    "pycharm": {
     "name": "#%% md\n"
    }
   },
   "source": [
    "# RQ1 - Eyetracking Fixation Metrics"
   ]
  },
  {
   "cell_type": "markdown",
   "source": [
    "## Import Libraries"
   ],
   "metadata": {
    "collapsed": false,
    "pycharm": {
     "name": "#%% md\n"
    }
   }
  },
  {
   "cell_type": "code",
   "execution_count": 1,
   "outputs": [],
   "source": [
    "import numpy as np\n",
    "import pandas as pd\n",
    "from tqdm.notebook import tqdm\n",
    "import utils.GenSnippetsLib as gsl\n",
    "import os"
   ],
   "metadata": {
    "collapsed": false,
    "pycharm": {
     "name": "#%%\n"
    }
   }
  },
  {
   "cell_type": "code",
   "execution_count": 2,
   "outputs": [],
   "source": [
    "screen_resolution = (1920, 1080)"
   ],
   "metadata": {
    "collapsed": false,
    "pycharm": {
     "name": "#%%\n"
    }
   }
  },
  {
   "cell_type": "markdown",
   "source": [
    "## Import Eyetracking Data"
   ],
   "metadata": {
    "collapsed": false,
    "pycharm": {
     "name": "#%% md\n"
    }
   }
  },
  {
   "cell_type": "code",
   "execution_count": 3,
   "outputs": [
    {
     "data": {
      "text/plain": "     Participant            Algorithm  \\\n0              1              IsPrime   \n1              1  SiebDesEratosthenes   \n2              1            IsAnagram   \n3              1     RemoveDoubleChar   \n4              1         BinToDecimal   \n...          ...                  ...   \n1067          71             BogoSort   \n1068          71         ReverseQueue   \n1069          71             Ackerman   \n1070          71       RabbitTortoise   \n1071          71            Rectangle   \n\n                                                   Path  \n0     ./data/filteredData/Participant01/IsPrime_Code...  \n1     ./data/filteredData/Participant01/SiebDesErato...  \n2     ./data/filteredData/Participant01/IsAnagram_Co...  \n3     ./data/filteredData/Participant01/RemoveDouble...  \n4     ./data/filteredData/Participant01/BinToDecimal...  \n...                                                 ...  \n1067  ./data/filteredData/Participant71/BogoSort_Cod...  \n1068  ./data/filteredData/Participant71/ReverseQueue...  \n1069  ./data/filteredData/Participant71/Ackerman_Cod...  \n1070  ./data/filteredData/Participant71/RabbitTortoi...  \n1071  ./data/filteredData/Participant71/Rectangle_Co...  \n\n[1072 rows x 3 columns]",
      "text/html": "<div>\n<style scoped>\n    .dataframe tbody tr th:only-of-type {\n        vertical-align: middle;\n    }\n\n    .dataframe tbody tr th {\n        vertical-align: top;\n    }\n\n    .dataframe thead th {\n        text-align: right;\n    }\n</style>\n<table border=\"1\" class=\"dataframe\">\n  <thead>\n    <tr style=\"text-align: right;\">\n      <th></th>\n      <th>Participant</th>\n      <th>Algorithm</th>\n      <th>Path</th>\n    </tr>\n  </thead>\n  <tbody>\n    <tr>\n      <th>0</th>\n      <td>1</td>\n      <td>IsPrime</td>\n      <td>./data/filteredData/Participant01/IsPrime_Code...</td>\n    </tr>\n    <tr>\n      <th>1</th>\n      <td>1</td>\n      <td>SiebDesEratosthenes</td>\n      <td>./data/filteredData/Participant01/SiebDesErato...</td>\n    </tr>\n    <tr>\n      <th>2</th>\n      <td>1</td>\n      <td>IsAnagram</td>\n      <td>./data/filteredData/Participant01/IsAnagram_Co...</td>\n    </tr>\n    <tr>\n      <th>3</th>\n      <td>1</td>\n      <td>RemoveDoubleChar</td>\n      <td>./data/filteredData/Participant01/RemoveDouble...</td>\n    </tr>\n    <tr>\n      <th>4</th>\n      <td>1</td>\n      <td>BinToDecimal</td>\n      <td>./data/filteredData/Participant01/BinToDecimal...</td>\n    </tr>\n    <tr>\n      <th>...</th>\n      <td>...</td>\n      <td>...</td>\n      <td>...</td>\n    </tr>\n    <tr>\n      <th>1067</th>\n      <td>71</td>\n      <td>BogoSort</td>\n      <td>./data/filteredData/Participant71/BogoSort_Cod...</td>\n    </tr>\n    <tr>\n      <th>1068</th>\n      <td>71</td>\n      <td>ReverseQueue</td>\n      <td>./data/filteredData/Participant71/ReverseQueue...</td>\n    </tr>\n    <tr>\n      <th>1069</th>\n      <td>71</td>\n      <td>Ackerman</td>\n      <td>./data/filteredData/Participant71/Ackerman_Cod...</td>\n    </tr>\n    <tr>\n      <th>1070</th>\n      <td>71</td>\n      <td>RabbitTortoise</td>\n      <td>./data/filteredData/Participant71/RabbitTortoi...</td>\n    </tr>\n    <tr>\n      <th>1071</th>\n      <td>71</td>\n      <td>Rectangle</td>\n      <td>./data/filteredData/Participant71/Rectangle_Co...</td>\n    </tr>\n  </tbody>\n</table>\n<p>1072 rows × 3 columns</p>\n</div>"
     },
     "execution_count": 3,
     "metadata": {},
     "output_type": "execute_result"
    }
   ],
   "source": [
    "df_query = pd.read_csv(\"./data/filteredData/filtered_data.csv\")\n",
    "df_eyetracking_events = pd.DataFrame(columns=[\"Participant\", \"Algorithm\", \"Path\"])\n",
    "snippets = df_query[\"Algorithm\"].unique()\n",
    "participants = df_query[\"Participant\"].unique()\n",
    "for participant in participants:\n",
    "    for snippet in snippets:\n",
    "        path = f\"./data/filteredData/Participant{str(participant).zfill(2)}/{snippet}_Code_eyetracking.csv\"\n",
    "        # check if path exists\n",
    "        if os.path.exists(path):\n",
    "            df_eyetracking_events.loc[len(df_eyetracking_events)] = [participant, snippet, path]\n",
    "df_eyetracking_events"
   ],
   "metadata": {
    "collapsed": false,
    "pycharm": {
     "name": "#%%\n"
    }
   }
  },
  {
   "cell_type": "code",
   "execution_count": 4,
   "outputs": [],
   "source": [
    "df_filtered = pd.read_csv(\"./data/filteredData/filtered_data.csv\")\n",
    "Algorithms = df_filtered[\"Algorithm\"].unique()\n",
    "Participants = df_filtered[df_filtered[\"IsOutlier\"] == False][\"Participant\"].unique()"
   ],
   "metadata": {
    "collapsed": false,
    "pycharm": {
     "name": "#%%\n"
    }
   }
  },
  {
   "cell_type": "code",
   "execution_count": 5,
   "outputs": [],
   "source": [
    "def doBoxesCollide(a, b):\n",
    "    a_x_center = a[0]\n",
    "    a_y_center = a[1]\n",
    "    a_width = a[2]\n",
    "    a_height = a[3]\n",
    "    b_x_center = b[0]\n",
    "    b_y_center = b[1]\n",
    "    b_width = b[2]\n",
    "    b_height = b[3]\n",
    "    return abs(a_x_center - b_x_center) * 2 < (a_width + b_width) and abs(a_y_center - b_y_center) * 2 < (a_height + b_height)"
   ],
   "metadata": {
    "collapsed": false,
    "pycharm": {
     "name": "#%%\n"
    }
   }
  },
  {
   "cell_type": "markdown",
   "source": [
    "# AOI based analysis"
   ],
   "metadata": {
    "collapsed": false,
    "pycharm": {
     "name": "#%% md\n"
    }
   }
  },
  {
   "cell_type": "markdown",
   "source": [],
   "metadata": {
    "collapsed": false,
    "pycharm": {
     "name": "#%% md\n"
    }
   }
  },
  {
   "cell_type": "code",
   "execution_count": 6,
   "outputs": [
    {
     "data": {
      "text/plain": "  0%|          | 0/32 [00:00<?, ?it/s]",
      "application/vnd.jupyter.widget-view+json": {
       "version_major": 2,
       "version_minor": 0,
       "model_id": "61b902e8ac6246719c5ede55159337a4"
      }
     },
     "metadata": {},
     "output_type": "display_data"
    },
    {
     "data": {
      "text/plain": "     Algorithm                          AOI AOIIdx             BoundingBox\n0      IsPrime            method_identifier      0   (993, 444, 1070, 460)\n1      IsPrime             method_signature      1   (751, 444, 1202, 464)\n2      IsPrime  method_argument_declaration      2  (1070, 444, 1202, 463)\n3      IsPrime                     for_head      3   (795, 469, 1147, 489)\n4      IsPrime        arithmetic_expression      4    (883, 494, 994, 510)\n..         ...                          ...    ...                     ...\n626  Rectangle       method_call_identifier     14  (1048, 769, 1114, 789)\n627  Rectangle             method_arguments     15  (1114, 769, 1136, 788)\n628  Rectangle                  method_call     16   (993, 769, 1136, 789)\n629  Rectangle        arithmetic_expression     17   (828, 769, 1136, 789)\n630  Rectangle            class_declaration     18   (663, 218, 1257, 862)\n\n[631 rows x 4 columns]",
      "text/html": "<div>\n<style scoped>\n    .dataframe tbody tr th:only-of-type {\n        vertical-align: middle;\n    }\n\n    .dataframe tbody tr th {\n        vertical-align: top;\n    }\n\n    .dataframe thead th {\n        text-align: right;\n    }\n</style>\n<table border=\"1\" class=\"dataframe\">\n  <thead>\n    <tr style=\"text-align: right;\">\n      <th></th>\n      <th>Algorithm</th>\n      <th>AOI</th>\n      <th>AOIIdx</th>\n      <th>BoundingBox</th>\n    </tr>\n  </thead>\n  <tbody>\n    <tr>\n      <th>0</th>\n      <td>IsPrime</td>\n      <td>method_identifier</td>\n      <td>0</td>\n      <td>(993, 444, 1070, 460)</td>\n    </tr>\n    <tr>\n      <th>1</th>\n      <td>IsPrime</td>\n      <td>method_signature</td>\n      <td>1</td>\n      <td>(751, 444, 1202, 464)</td>\n    </tr>\n    <tr>\n      <th>2</th>\n      <td>IsPrime</td>\n      <td>method_argument_declaration</td>\n      <td>2</td>\n      <td>(1070, 444, 1202, 463)</td>\n    </tr>\n    <tr>\n      <th>3</th>\n      <td>IsPrime</td>\n      <td>for_head</td>\n      <td>3</td>\n      <td>(795, 469, 1147, 489)</td>\n    </tr>\n    <tr>\n      <th>4</th>\n      <td>IsPrime</td>\n      <td>arithmetic_expression</td>\n      <td>4</td>\n      <td>(883, 494, 994, 510)</td>\n    </tr>\n    <tr>\n      <th>...</th>\n      <td>...</td>\n      <td>...</td>\n      <td>...</td>\n      <td>...</td>\n    </tr>\n    <tr>\n      <th>626</th>\n      <td>Rectangle</td>\n      <td>method_call_identifier</td>\n      <td>14</td>\n      <td>(1048, 769, 1114, 789)</td>\n    </tr>\n    <tr>\n      <th>627</th>\n      <td>Rectangle</td>\n      <td>method_arguments</td>\n      <td>15</td>\n      <td>(1114, 769, 1136, 788)</td>\n    </tr>\n    <tr>\n      <th>628</th>\n      <td>Rectangle</td>\n      <td>method_call</td>\n      <td>16</td>\n      <td>(993, 769, 1136, 789)</td>\n    </tr>\n    <tr>\n      <th>629</th>\n      <td>Rectangle</td>\n      <td>arithmetic_expression</td>\n      <td>17</td>\n      <td>(828, 769, 1136, 789)</td>\n    </tr>\n    <tr>\n      <th>630</th>\n      <td>Rectangle</td>\n      <td>class_declaration</td>\n      <td>18</td>\n      <td>(663, 218, 1257, 862)</td>\n    </tr>\n  </tbody>\n</table>\n<p>631 rows × 4 columns</p>\n</div>"
     },
     "execution_count": 6,
     "metadata": {},
     "output_type": "execute_result"
    }
   ],
   "source": [
    "# Get AOI based AOIs\n",
    "df_aois = pd.DataFrame(columns=[\"Algorithm\", \"AOI\", \"AOIIdx\", \"BoundingBox\"])\n",
    "for snippet in tqdm(Algorithms):\n",
    "    aoi_aoi_generator = f\"./../CodeSnippets/Generators_Labeled/Generators/{snippet}.json\"\n",
    "    try:\n",
    "        image, aoi_list = gsl.create_image(aoi_aoi_generator, font_path=\"./../CodeSnippets/fonts/ttf/\")\n",
    "    except:\n",
    "        print(f\"{snippet} failed\")\n",
    "        image, aoi_list = gsl.create_image(aoi_aoi_generator, font_path=\"./../CodeSnippets/fonts/ttf/\", logging=True)\n",
    "        break\n",
    "    height, width = image.size\n",
    "    width_offset = int(1920 * 0.5) - int(height / 2)\n",
    "    height_offset = int(1080 * 0.5) - int(width / 2)\n",
    "    aoi_clustered = []\n",
    "    current_left = []\n",
    "    current_top = []\n",
    "    current_right = []\n",
    "    current_bottom = []\n",
    "    current_aoi = []\n",
    "    color = []\n",
    "    for letter in aoi_list:\n",
    "        # Close AOI\n",
    "        if letter['letter'] in \" \\t\\n\":\n",
    "            continue\n",
    "        if len(letter[\"AOI\"]) == 1:\n",
    "            for idx in range(len(current_aoi)):\n",
    "                aoi_clustered.append((len(aoi_clustered), current_aoi[idx], current_left[idx], current_top[idx], current_right[idx], current_bottom[idx], color[idx]))\n",
    "\n",
    "            current_aoi = []\n",
    "            color = []\n",
    "            current_left = []\n",
    "            current_top = []\n",
    "            current_right = []\n",
    "            current_bottom = []\n",
    "            continue\n",
    "        # There is no AOI set\n",
    "        if len(current_aoi) == 0:\n",
    "            current_aoi = []\n",
    "            color = []\n",
    "            current_left = []\n",
    "            current_top = []\n",
    "            current_right = []\n",
    "            current_bottom = []\n",
    "            for idx in range(1, len(letter[\"AOI\"])):\n",
    "                current_aoi.append(letter[\"AOI\"][idx])\n",
    "                current_left.append(letter[\"BoundingBox\"][0])\n",
    "                current_top.append(letter[\"BoundingBox\"][1])\n",
    "                current_right.append(letter[\"BoundingBox\"][2])\n",
    "                current_bottom.append(letter[\"BoundingBox\"][3])\n",
    "                color.append(letter[\"color\"])\n",
    "            continue\n",
    "\n",
    "\n",
    "        for idx in reversed(range(len(current_aoi))):\n",
    "            if current_aoi[idx] in letter[\"AOI\"]:\n",
    "                current_left[idx] = min(current_left[idx], letter[\"BoundingBox\"][0])\n",
    "                current_top[idx] = min(current_top[idx], letter[\"BoundingBox\"][1])\n",
    "                current_right[idx] = max(current_right[idx], letter[\"BoundingBox\"][2])\n",
    "                current_bottom[idx] = max(current_bottom[idx], letter[\"BoundingBox\"][3])\n",
    "                # remove the AOI from the letter\n",
    "                letter[\"AOI\"].remove(current_aoi[idx])\n",
    "            else:\n",
    "                aoi_clustered.append((len(aoi_clustered), current_aoi[idx], current_left[idx], current_top[idx], current_right[idx], current_bottom[idx], color[idx]))\n",
    "                del current_aoi[idx]\n",
    "                del current_left[idx]\n",
    "                del current_top[idx]\n",
    "                del current_right[idx]\n",
    "                del current_bottom[idx]\n",
    "                del color[idx]\n",
    "\n",
    "        for idx in range(1, len(letter[\"AOI\"])):\n",
    "            current_aoi.append(letter[\"AOI\"][idx])\n",
    "            current_left.append(letter[\"BoundingBox\"][0])\n",
    "            current_top.append(letter[\"BoundingBox\"][1])\n",
    "            current_right.append(letter[\"BoundingBox\"][2])\n",
    "            current_bottom.append(letter[\"BoundingBox\"][3])\n",
    "            color.append(letter[\"color\"])\n",
    "\n",
    "    for idx in range(len(current_aoi)):\n",
    "        aoi_clustered.append((len(aoi_clustered), current_aoi[idx], current_left[idx], current_top[idx], current_right[idx], current_bottom[idx], color[idx]))\n",
    "\n",
    "    for aoi in aoi_clustered:\n",
    "        df_aois.loc[len(df_aois)] = [snippet, aoi[1], aoi[0],\n",
    "                                     (aoi[2] + width_offset,\n",
    "                                      aoi[3] + height_offset,\n",
    "                                      aoi[4] + width_offset,\n",
    "                                      aoi[5] + height_offset)]\n",
    "\n",
    "df_aois"
   ],
   "metadata": {
    "collapsed": false,
    "pycharm": {
     "name": "#%%\n"
    }
   }
  },
  {
   "cell_type": "markdown",
   "source": [
    "### Check which Fixation of which Participant is in which AOI"
   ],
   "metadata": {
    "collapsed": false,
    "pycharm": {
     "name": "#%% md\n"
    }
   }
  },
  {
   "cell_type": "code",
   "execution_count": 22,
   "outputs": [
    {
     "data": {
      "text/plain": "  0%|          | 0/32 [00:00<?, ?it/s]",
      "application/vnd.jupyter.widget-view+json": {
       "version_major": 2,
       "version_minor": 0,
       "model_id": "7336f699cbd04d40bfaa424584b0dabf"
      }
     },
     "metadata": {},
     "output_type": "display_data"
    }
   ],
   "source": [
    "df_aoi_fixation_per_participant = pd.DataFrame([], columns=[\"Algorithm\", \"Participant\", \"FixationNumber\",\"Start\", \"End\", \"AOIIdx\"])\n",
    "for snippet in tqdm(Algorithms):\n",
    "    df_aois_per_algo = df_aois[df_aois[\"Algorithm\"] == snippet]\n",
    "\n",
    "    for participant in Participants:\n",
    "\n",
    "        df_grouped = df_eyetracking_events[(df_eyetracking_events[\"Algorithm\"] == snippet) & (df_eyetracking_events[\"Participant\"] == participant)]\n",
    "\n",
    "        if len(df_grouped) == 0:\n",
    "            continue\n",
    "\n",
    "        eyetracking_path = df_grouped[\"Path\"].values[0]\n",
    "        df_current_eyetracking = pd.read_csv(eyetracking_path)\n",
    "        label = df_current_eyetracking[\"label\"].unique()\n",
    "        df_fix = df_current_eyetracking[df_current_eyetracking[\"label\"] == \"FIXA\"]\n",
    "        df_fix = df_fix.reset_index()\n",
    "        df_fix[\"duration\"] = df_fix[\"end_time\"] - df_fix[\"start_time\"]\n",
    "        df_fix[\"x_range\"] = (df_fix[\"end_x\"] - df_fix[\"start_x\"]).apply(abs)\n",
    "        df_fix[\"y_range\"] = (df_fix[\"end_y\"] - df_fix[\"start_y\"]).apply(abs)\n",
    "        for fix_idx, fix_row in df_fix.iterrows():\n",
    "            rectangle_a = [fix_row[\"start_x\"], fix_row[\"start_y\"], fix_row[\"x_range\"], fix_row[\"y_range\"]]\n",
    "            was_in_aoi = False\n",
    "            for _, aoi_row in df_aois_per_algo.iterrows():\n",
    "                aoi_idx = aoi_row[\"AOIIdx\"]\n",
    "                aoi_name = aoi_row[\"AOI\"]\n",
    "                bounding_box = aoi_row[\"BoundingBox\"]\n",
    "                rectangle_b = [(bounding_box[0] + bounding_box[2])/ 2, (bounding_box[1] + bounding_box[3])/ 2,\n",
    "                               bounding_box[2] - bounding_box[0], bounding_box[3] - bounding_box[1]]\n",
    "                # check if any value is true\n",
    "                if doBoxesCollide(rectangle_a, rectangle_b):\n",
    "                    df_aoi_fixation_per_participant.loc[len(df_aoi_fixation_per_participant)] = [snippet, participant, fix_idx, fix_row[\"start_time\"], fix_row[\"end_time\"], aoi_idx]\n",
    "                    was_in_aoi = True\n",
    "            if not was_in_aoi:\n",
    "                    df_aoi_fixation_per_participant.loc[len(df_aoi_fixation_per_participant)] = [snippet, participant, fix_idx, fix_row[\"start_time\"], fix_row[\"end_time\"], None]"
   ],
   "metadata": {
    "collapsed": false,
    "pycharm": {
     "name": "#%%\n"
    }
   }
  },
  {
   "cell_type": "code",
   "execution_count": 32,
   "outputs": [
    {
     "data": {
      "text/plain": "  0%|          | 0/405200 [00:00<?, ?it/s]",
      "application/vnd.jupyter.widget-view+json": {
       "version_major": 2,
       "version_minor": 0,
       "model_id": "2b33a8746e8448eca7d09adaa4efca1d"
      }
     },
     "metadata": {},
     "output_type": "display_data"
    }
   ],
   "source": [
    "# save the result\n",
    "df_aois_tmp = df_aois.copy()\n",
    "df_aois_tmp = df_aois_tmp[[\"Algorithm\", \"AOIIdx\", \"AOI\"]]\n",
    "for algorithm in df_aois_tmp[\"Algorithm\"].unique():\n",
    "    df_aois_tmp.loc[len(df_aois_tmp)] = [algorithm, -1, \"\"]\n",
    "\n",
    "df_aoi_fixation_per_participant[\"AOIIdx\"] = df_aoi_fixation_per_participant[\"AOIIdx\"].fillna(-1.0).astype(int)\n",
    "df_aoi_fixation_per_participant[\"AOI\"] = \"\"\n",
    "for idx, row in tqdm(df_aoi_fixation_per_participant.iterrows(), total=len(df_aoi_fixation_per_participant)):\n",
    "    algorithm = row[\"Algorithm\"]\n",
    "    aoi_idx = row[\"AOIIdx\"]\n",
    "    sub_frame = df_aois_tmp[(df_aois_tmp[\"Algorithm\"] == algorithm) & (df_aois_tmp[\"AOIIdx\"] == aoi_idx)]\n",
    "    if len(sub_frame) != 1:\n",
    "        continue\n",
    "    aoi_name = sub_frame[\"AOI\"].values[0]\n",
    "    df_aoi_fixation_per_participant.loc[idx, \"AOI\"] = aoi_name\n",
    "df_aoi_fixation_per_participant.to_csv(\"./data/fixation_per_participant_per_aoi.csv\", index=False)"
   ],
   "metadata": {
    "collapsed": false,
    "pycharm": {
     "name": "#%%\n"
    }
   }
  },
  {
   "cell_type": "code",
   "execution_count": 7,
   "outputs": [
    {
     "data": {
      "text/plain": "        Algorithm  Participant  FixationNumber  Start    End  AOIIdx\n0         IsPrime            1               0  0.000  0.228     1.0\n1         IsPrime            1               1  0.264  0.440     0.0\n2         IsPrime            1               1  0.264  0.440     1.0\n3         IsPrime            1               2  0.656  0.736     0.0\n4         IsPrime            1               2  0.656  0.736     1.0\n...           ...          ...             ...    ...    ...     ...\n405195  Rectangle           71              30  8.812  8.944    18.0\n405196  Rectangle           71              31  8.996  9.080    18.0\n405197  Rectangle           71              32  9.272  9.404    18.0\n405198  Rectangle           71              33  9.436  9.596    18.0\n405199  Rectangle           71              34  9.640  9.776    18.0\n\n[405200 rows x 6 columns]",
      "text/html": "<div>\n<style scoped>\n    .dataframe tbody tr th:only-of-type {\n        vertical-align: middle;\n    }\n\n    .dataframe tbody tr th {\n        vertical-align: top;\n    }\n\n    .dataframe thead th {\n        text-align: right;\n    }\n</style>\n<table border=\"1\" class=\"dataframe\">\n  <thead>\n    <tr style=\"text-align: right;\">\n      <th></th>\n      <th>Algorithm</th>\n      <th>Participant</th>\n      <th>FixationNumber</th>\n      <th>Start</th>\n      <th>End</th>\n      <th>AOIIdx</th>\n    </tr>\n  </thead>\n  <tbody>\n    <tr>\n      <th>0</th>\n      <td>IsPrime</td>\n      <td>1</td>\n      <td>0</td>\n      <td>0.000</td>\n      <td>0.228</td>\n      <td>1.0</td>\n    </tr>\n    <tr>\n      <th>1</th>\n      <td>IsPrime</td>\n      <td>1</td>\n      <td>1</td>\n      <td>0.264</td>\n      <td>0.440</td>\n      <td>0.0</td>\n    </tr>\n    <tr>\n      <th>2</th>\n      <td>IsPrime</td>\n      <td>1</td>\n      <td>1</td>\n      <td>0.264</td>\n      <td>0.440</td>\n      <td>1.0</td>\n    </tr>\n    <tr>\n      <th>3</th>\n      <td>IsPrime</td>\n      <td>1</td>\n      <td>2</td>\n      <td>0.656</td>\n      <td>0.736</td>\n      <td>0.0</td>\n    </tr>\n    <tr>\n      <th>4</th>\n      <td>IsPrime</td>\n      <td>1</td>\n      <td>2</td>\n      <td>0.656</td>\n      <td>0.736</td>\n      <td>1.0</td>\n    </tr>\n    <tr>\n      <th>...</th>\n      <td>...</td>\n      <td>...</td>\n      <td>...</td>\n      <td>...</td>\n      <td>...</td>\n      <td>...</td>\n    </tr>\n    <tr>\n      <th>405195</th>\n      <td>Rectangle</td>\n      <td>71</td>\n      <td>30</td>\n      <td>8.812</td>\n      <td>8.944</td>\n      <td>18.0</td>\n    </tr>\n    <tr>\n      <th>405196</th>\n      <td>Rectangle</td>\n      <td>71</td>\n      <td>31</td>\n      <td>8.996</td>\n      <td>9.080</td>\n      <td>18.0</td>\n    </tr>\n    <tr>\n      <th>405197</th>\n      <td>Rectangle</td>\n      <td>71</td>\n      <td>32</td>\n      <td>9.272</td>\n      <td>9.404</td>\n      <td>18.0</td>\n    </tr>\n    <tr>\n      <th>405198</th>\n      <td>Rectangle</td>\n      <td>71</td>\n      <td>33</td>\n      <td>9.436</td>\n      <td>9.596</td>\n      <td>18.0</td>\n    </tr>\n    <tr>\n      <th>405199</th>\n      <td>Rectangle</td>\n      <td>71</td>\n      <td>34</td>\n      <td>9.640</td>\n      <td>9.776</td>\n      <td>18.0</td>\n    </tr>\n  </tbody>\n</table>\n<p>405200 rows × 6 columns</p>\n</div>"
     },
     "execution_count": 7,
     "metadata": {},
     "output_type": "execute_result"
    }
   ],
   "source": [
    "df_aoi_fixation_per_participant = pd.read_csv(\"./data/fixation_per_participant_per_aoi.csv\")\n",
    "df_aoi_fixation_per_participant = df_aoi_fixation_per_participant.drop(\"AOI\", axis=1)\n",
    "df_aoi_fixation_per_participant[\"AOIIdx\"] = df_aoi_fixation_per_participant[\"AOIIdx\"].astype(float)\n",
    "df_aoi_fixation_per_participant.loc[df_aoi_fixation_per_participant[\"AOIIdx\"] < 0, \"AOIIdx\"] = float(\"Nan\")\n",
    "df_aoi_fixation_per_participant"
   ],
   "metadata": {
    "collapsed": false,
    "pycharm": {
     "name": "#%%\n"
    }
   }
  },
  {
   "cell_type": "markdown",
   "source": [
    "### Transform the Data to a Fixation/ Refixation split by Participant"
   ],
   "metadata": {
    "collapsed": false,
    "pycharm": {
     "name": "#%% md\n"
    }
   }
  },
  {
   "cell_type": "code",
   "execution_count": 8,
   "outputs": [],
   "source": [
    "df_aoi_fixation_per_participant = df_aoi_fixation_per_participant[df_aoi_fixation_per_participant[\"AOIIdx\"].isna() == False]"
   ],
   "metadata": {
    "collapsed": false,
    "pycharm": {
     "name": "#%%\n"
    }
   }
  },
  {
   "cell_type": "code",
   "execution_count": 9,
   "outputs": [
    {
     "data": {
      "text/plain": "  0%|          | 0/341648 [00:00<?, ?it/s]",
      "application/vnd.jupyter.widget-view+json": {
       "version_major": 2,
       "version_minor": 0,
       "model_id": "88930b871c354376b9c4ff1129159044"
      }
     },
     "metadata": {},
     "output_type": "display_data"
    }
   ],
   "source": [
    "df_aois_current = df_aois.copy()\n",
    "df_aois_current = df_aois_current.drop([\"BoundingBox\"], axis=1)\n",
    "for participant in participants:\n",
    "    df_aois_current.loc[:, f\"AOIFixation_P{participant}\"] = df_aois_current.apply(lambda row: [], axis=1)\n",
    "    df_aois_current.loc[:, f\"AOIReFixation_P{participant}\"] = df_aois_current.apply(lambda row: [], axis=1)\n",
    "\n",
    "\n",
    "prev_participant = df_aoi_fixation_per_participant[\"Participant\"].iloc[0]\n",
    "prev_aoi_idx = df_aoi_fixation_per_participant[\"AOIIdx\"].iloc[0]\n",
    "prev_algorithm = df_aoi_fixation_per_participant[\"Algorithm\"].iloc[0]\n",
    "fixations = []\n",
    "re_fixation = False\n",
    "for idx, row in tqdm(df_aoi_fixation_per_participant.iterrows(), total=len(df_aoi_fixation_per_participant)):\n",
    "    participant = row[\"Participant\"]\n",
    "    aoi_idx = row[\"AOIIdx\"]\n",
    "    algorithm = row[\"Algorithm\"]\n",
    "    FixationDuration = row[\"End\"] - row[\"Start\"]\n",
    "\n",
    "    # fixation switches\n",
    "    if prev_participant != participant or prev_aoi_idx != aoi_idx:\n",
    "        index = df_aois_current[(df_aois_current[\"AOIIdx\"] == prev_aoi_idx) & (df_aois_current[\"Algorithm\"] == prev_algorithm)].index[0]\n",
    "        if re_fixation:\n",
    "            re_fixations = df_aois_current.loc[index, f\"AOIReFixation_P{prev_participant}\"]\n",
    "            re_fixations.extend(fixations.copy())\n",
    "            df_aois_current.loc[index, f\"AOIReFixation_P{prev_participant}\"] = re_fixations.copy()\n",
    "        else:\n",
    "            df_aois_current.loc[index, f\"AOIFixation_P{prev_participant}\"] = fixations.copy()\n",
    "        fixations = []\n",
    "        # possible new fixation\n",
    "        re_fixation = False\n",
    "\n",
    "    sub_frame = df_aois_current[(df_aois_current[\"AOIIdx\"] == aoi_idx) & (df_aois_current[\"Algorithm\"] == algorithm)]\n",
    "    if len(sub_frame) == 0:\n",
    "        raise Exception(f\"No AOI found for {aoi_idx} in Algorithm {algorithm}\")\n",
    "    len_of_fixation = len(sub_frame[f\"AOIFixation_P{participant}\"].iloc[0])\n",
    "    if re_fixation == False and len_of_fixation > 0 and len(fixations) == 0:\n",
    "        re_fixation = True\n",
    "\n",
    "    fixations.append(FixationDuration)\n",
    "    prev_participant = participant\n",
    "    prev_aoi_idx = aoi_idx\n",
    "    prev_algorithm = algorithm"
   ],
   "metadata": {
    "collapsed": false,
    "pycharm": {
     "name": "#%%\n"
    }
   }
  },
  {
   "cell_type": "markdown",
   "source": [
    "### Calculate the AOI Based Eyetracking Metrics"
   ],
   "metadata": {
    "collapsed": false,
    "pycharm": {
     "name": "#%% md\n"
    }
   }
  },
  {
   "cell_type": "code",
   "execution_count": 10,
   "outputs": [
    {
     "data": {
      "text/plain": "FirstFixationDuration            -1.523017e-15\nSingleFixationDuration            7.221338e-17\nGazeDuration                     -4.093485e-17\nTotalTime                        -2.761301e-16\nAOINoFixationProbability         -1.947696e-16\nAOISingleFixationProbability      1.609461e-16\nAOIMultipleFixationProbability    1.953754e-15\nAOIFixationProbability           -1.023443e-15\nSkill                            -2.225634e-16\ndtype: float64"
     },
     "execution_count": 10,
     "metadata": {},
     "output_type": "execute_result"
    }
   ],
   "source": [
    "# Melt the Dataframe to be thinner so that we have Algorithm aoiIdx and Participant and Keys per Fixation / Refixation\n",
    "df_aois_current_tmp = df_aois_current.drop([\"AOI\"], axis=1)\n",
    "df_aoi_melted = pd.melt(df_aois_current_tmp, id_vars=[\"Algorithm\", \"AOIIdx\"], var_name=\"KindOfFixation\", value_name=\"FixationDurations\")\n",
    "\n",
    "# Classify Participant and the Kind and Number of Fixations / Refixations\n",
    "df_aoi_melted[\"Participant\"] = df_aoi_melted[\"KindOfFixation\"].apply(lambda x: int(x.split(\"_\")[1][1:]))\n",
    "df_aoi_melted[\"KindOfFixation\"] = df_aoi_melted[\"KindOfFixation\"].apply(lambda x: x.split(\"_\")[0])\n",
    "df_aoi_melted[\"KindOfFixation\"] = df_aoi_melted[\"KindOfFixation\"].apply(lambda x: \"Fixation\" if x == \"AOIFixation\" else \"ReFixation\")\n",
    "df_aoi_melted[\"NumberOfFixations\"] = df_aoi_melted[\"FixationDurations\"].apply(lambda x: len(x))\n",
    "\n",
    "# Get the number of Participants for further calculations\n",
    "number_of_participants = len(participants)\n",
    "\n",
    "# Calculate the First Fixation Duration per Participant per AOI\n",
    "df_aoi_melted[\"FirstFixationDuration\"] = None\n",
    "df_aoi_melted.loc[df_aoi_melted[\"KindOfFixation\"] == \"Fixation\" , \"FirstFixationDuration\"] = df_aoi_melted[\"FixationDurations\"]\\\n",
    "    .apply(lambda x: x[0] if len(x) > 0 else None)\n",
    "\n",
    "# Calculate the Single Fixation Duration per Participant per AOI\n",
    "df_aoi_melted[\"SingleFixationDuration\"] = None\n",
    "df_aoi_melted.loc[df_aoi_melted[\"KindOfFixation\"] == \"Fixation\" , \"SingleFixationDuration\"] = df_aoi_melted[\"FixationDurations\"]\\\n",
    "    .apply(lambda x: x[0] if len(x) == 1 else None)\n",
    "\n",
    "# Calculate the Gaze Duration per Participant per AOI\n",
    "df_aoi_melted[\"GazeDuration\"] = None\n",
    "df_aoi_melted.loc[df_aoi_melted[\"KindOfFixation\"] == \"Fixation\" , \"GazeDuration\"] = df_aoi_melted[\"FixationDurations\"]\\\n",
    "    .apply(lambda x: sum(x) if len(x) > 0 else None)\n",
    "\n",
    "# Calculate the Total Time per Participant per AOI\n",
    "df_aoi_melted_total_time = df_aoi_melted.groupby([\"Participant\", \"Algorithm\", \"AOIIdx\"])\\\n",
    "    .agg({\"FixationDurations\": lambda x: sum(x.values.sum())})\n",
    "df_aoi_melted_total_time = df_aoi_melted_total_time.rename(columns={\"FixationDurations\": \"TotalTime\"})\n",
    "\n",
    "# Merge the Dataframes\n",
    "df_aoi_melted = pd.merge(df_aoi_melted, df_aoi_melted_total_time, on=[\"Participant\", \"Algorithm\", \"AOIIdx\"], how=\"left\")\n",
    "\n",
    "# Cast the Dataframes to the right datatype\n",
    "df_aoi_melted[\"FirstFixationDuration\"] = df_aoi_melted[\"FirstFixationDuration\"].astype(float)\n",
    "df_aoi_melted[\"SingleFixationDuration\"] = df_aoi_melted[\"SingleFixationDuration\"].astype(float)\n",
    "df_aoi_melted[\"GazeDuration\"] = df_aoi_melted[\"GazeDuration\"].astype(float)\n",
    "df_aoi_melted[\"TotalTime\"] = df_aoi_melted[\"TotalTime\"].astype(float).replace(0, np.nan)\n",
    "\n",
    "# Read in the Skilllevel\n",
    "df_skill = pd.read_csv(f\"./data/filteredData/filtered_data.csv\")\n",
    "df_skill = df_skill[[\"Participant\", \"SkillScore\"]]\n",
    "df_skill = df_skill.drop_duplicates()\n",
    "\n",
    "# Merge the Dataframes to combine metrics with the Skilllevel\n",
    "df_metrics_skill = pd.merge(df_aoi_melted, df_skill, on=[\"Participant\"], how=\"left\")\n",
    "\n",
    "# Helper Methods for the Metrics (2. Define because of nearness of the code)\n",
    "def get_no_fixations(df):\n",
    "    df_fixations = df[df[\"KindOfFixation\"] == \"Fixation\"]\n",
    "    # remove every entry from df fixations on [\"Algorithm\", \"aoiIdx\"] where there is a refixation6\n",
    "    df_fixations = df_fixations[df_fixations[\"NumberOfFixations\"] == 0]\n",
    "    return df_fixations\n",
    "\n",
    "\n",
    "def get_single_fixations(df):\n",
    "    df_fixations = df[df[\"KindOfFixation\"] == \"Fixation\"]\n",
    "    df_refixations = df[df[\"KindOfFixation\"] == \"ReFixation\"]\n",
    "    df_refixations = df_refixations[df_refixations[\"NumberOfFixations\"] > 0]\n",
    "    # remove every entry from df fixations on [\"Algorithm\", \"aoiIdx\"] where there is a refixation6\n",
    "    df_fixations = df_fixations[~df_fixations[\"AOIIdx\"].isin(df_refixations[\"AOIIdx\"].values)]\n",
    "    # remove every entry from df fixations on where Number Of Fixations is not 1\n",
    "    df_fixations = df_fixations[df_fixations[\"NumberOfFixations\"] == 1]\n",
    "    return df_fixations\n",
    "\n",
    "def get_multiple_fixations(df):\n",
    "    df_fixations = df[df[\"KindOfFixation\"] == \"Fixation\"]\n",
    "    df_refixations = df[df[\"KindOfFixation\"] == \"ReFixation\"]\n",
    "    df_refixations = df_refixations[df_refixations[\"NumberOfFixations\"] > 0]\n",
    "    # remove every entry from df fixations on [\"Algorithm\", \"aoiIdx\"] where there is a refixation6\n",
    "    df_fixations = df_fixations[(df_fixations[\"AOIIdx\"].isin(df_refixations[\"AOIIdx\"].values)) & (df_fixations[\"NumberOfFixations\"] >= 1)]\n",
    "    return df_fixations\n",
    "\n",
    "def get_fixations(df):\n",
    "    df_fixations = df[df[\"KindOfFixation\"] == \"Fixation\"]\n",
    "    # remove every entry from df fixations on where no Fixation is found\n",
    "    df_fixations = df_fixations[df_fixations[\"NumberOfFixations\"] >= 1]\n",
    "    return df_fixations\n",
    "\n",
    "\n",
    "\n",
    "# dataframe for number of fixations per participant\n",
    "number_of_fixation_per_algorithm = df_metrics_skill.groupby([\"Participant\", \"Algorithm\"])[\"NumberOfFixations\"].count()\n",
    "number_of_fixation_per_algorithm = number_of_fixation_per_algorithm.reset_index()\n",
    "\n",
    "# dataframe for number of aois per algorithm\n",
    "number_of_aois_per_algorithm = df_metrics_skill.groupby([\"Algorithm\"])[\"AOIIdx\"].max()\n",
    "number_of_aois_per_algorithm = number_of_aois_per_algorithm.reset_index()\n",
    "\n",
    "# dataframe for number of aois with no fixation per algorithm per participant\n",
    "df_no_fixation_per_algorithm = df_metrics_skill.groupby([\"Participant\", \"Algorithm\"])\\\n",
    "    .apply(get_no_fixations)\\\n",
    "    .drop([\"Algorithm\"], axis=1)\n",
    "\n",
    "# dataframe for number of aois with only one fixation per algorithm per participant\n",
    "df_single_fixation_per_algorithm = df_metrics_skill.groupby([\"Participant\", \"Algorithm\"])\\\n",
    "    .apply(get_single_fixations)\\\n",
    "    .drop([\"Algorithm\"], axis=1)\n",
    "\n",
    "# dataframe for number of aois with more than one fixation per algorithm per participant\n",
    "df_multiple_fixation_per_algorithm = df_metrics_skill.groupby([\"Participant\", \"Algorithm\"])\\\n",
    "    .apply(get_multiple_fixations)\\\n",
    "    .drop([\"Algorithm\"], axis=1)\n",
    "\n",
    "# dataframe for number of aois with more or equal than one fixation per algorithm per participant\n",
    "df_fixation_per_algorithm = df_metrics_skill.groupby([\"Participant\", \"Algorithm\"])\\\n",
    "    .apply(get_fixations)\\\n",
    "    .drop([\"Algorithm\"], axis=1)\n",
    "\n",
    "# Reformat the dataframes\n",
    "no_fixation_per_algorithm = df_no_fixation_per_algorithm[[\"AOIIdx\"]]\n",
    "no_fixation_per_algorithm = no_fixation_per_algorithm.reset_index().drop([\"level_2\"], axis=1)\n",
    "\n",
    "single_fixation_per_algorithm = df_single_fixation_per_algorithm[[\"AOIIdx\"]]\n",
    "single_fixation_per_algorithm = single_fixation_per_algorithm.reset_index().drop([\"level_2\"], axis=1)\n",
    "\n",
    "multiple_fixation_per_algorithm = df_multiple_fixation_per_algorithm[[\"AOIIdx\"]]\n",
    "multiple_fixation_per_algorithm = multiple_fixation_per_algorithm.reset_index().drop([\"level_2\"], axis=1)\n",
    "\n",
    "fixations_per_algorithm = df_fixation_per_algorithm[[\"AOIIdx\"]]\n",
    "fixations_per_algorithm = fixations_per_algorithm.reset_index().drop([\"level_2\"], axis=1)\n",
    "\n",
    "# Helper Method for Probability Metrics\n",
    "def group_len_divided_by_number(current_df, counting_df):\n",
    "    algorithm = current_df[\"Algorithm\"].iloc[0]\n",
    "    number_of_aois = counting_df[counting_df[\"Algorithm\"] == algorithm][\"AOIIdx\"].iloc[0]\n",
    "    value = len(current_df) / number_of_aois\n",
    "    return len(current_df) / (number_of_aois + 1)\n",
    "\n",
    "# Calculate the Metrics per Participant\n",
    "# Probability of no fixation\n",
    "df_no_fixation_probability = no_fixation_per_algorithm.groupby([\"Participant\", \"Algorithm\"]).apply(lambda df: group_len_divided_by_number(df, number_of_aois_per_algorithm))\n",
    "df_no_fixation_probability = df_no_fixation_probability.reset_index()\n",
    "\n",
    "# Probability of single fixation\n",
    "df_single_fixation_probability = single_fixation_per_algorithm.groupby([\"Participant\", \"Algorithm\"]).apply(lambda df: group_len_divided_by_number(df, number_of_aois_per_algorithm))\n",
    "df_single_fixation_probability = df_single_fixation_probability.reset_index()\n",
    "\n",
    "# Probability of multiple fixation\n",
    "df_multiple_fixation_probability = multiple_fixation_per_algorithm.groupby([\"Participant\", \"Algorithm\"]).apply(lambda df: group_len_divided_by_number(df, number_of_aois_per_algorithm))\n",
    "df_multiple_fixation_probability = df_multiple_fixation_probability.reset_index()\n",
    "\n",
    "# Probability of fixation\n",
    "df_fixation_probability = fixations_per_algorithm.groupby([\"Participant\", \"Algorithm\"]).apply(lambda df: group_len_divided_by_number(df, number_of_aois_per_algorithm))\n",
    "df_fixation_probability = df_fixation_probability.reset_index()\n",
    "\n",
    "# Calculate the means for the metrics per algorithm\n",
    "df_no_fixation_probability = df_no_fixation_probability.groupby([\"Participant\"]).mean()\n",
    "df_single_fixation_probability = df_single_fixation_probability.groupby([\"Participant\"]).mean()\n",
    "df_multiple_fixation_probability = df_multiple_fixation_probability.groupby([\"Participant\"]).mean()\n",
    "df_fixation_probability = df_fixation_probability.groupby([\"Participant\"]).mean()\n",
    "\n",
    "# Raw Durations Metrics\n",
    "# Duration of first fixation\n",
    "df_first_fixation = df_metrics_skill[~df_metrics_skill[\"FirstFixationDuration\"].isnull()]\n",
    "df_first_fixation = df_first_fixation.groupby([\"Participant\"])[\"FirstFixationDuration\"].mean()\n",
    "\n",
    "# Duration of single fixation\n",
    "df_single_fixation = df_metrics_skill[~df_metrics_skill[\"SingleFixationDuration\"].isnull()]\n",
    "df_single_fixation = df_single_fixation.groupby([\"Participant\"])[\"SingleFixationDuration\"].mean()\n",
    "\n",
    "# Duration of gaze duration\n",
    "df_gaze_duration = df_metrics_skill[~df_metrics_skill[\"GazeDuration\"].isnull()]\n",
    "df_gaze_duration = df_gaze_duration.groupby([\"Participant\"])[\"GazeDuration\"].mean()\n",
    "\n",
    "# Total Time\n",
    "df_total_time = df_metrics_skill[~df_metrics_skill[\"TotalTime\"].isnull()]\n",
    "df_total_time = df_total_time.groupby([\"Participant\"])[\"TotalTime\"].mean()\n",
    "\n",
    "# Put every metric dataframe together into one\n",
    "df_combined = pd.DataFrame({\"FirstFixationDuration\": df_first_fixation.values,\n",
    "                            \"SingleFixationDuration\": df_single_fixation.values,\n",
    "                            \"GazeDuration\": df_gaze_duration.values,\n",
    "                            \"TotalTime\": df_total_time.values,\n",
    "                            \"AOINoFixationProbability\": df_no_fixation_probability.values.reshape(37, ),\n",
    "                            \"AOISingleFixationProbability\": df_single_fixation_probability.values.reshape(37, ),\n",
    "                            \"AOIMultipleFixationProbability\": df_multiple_fixation_probability.values.reshape(37, ),\n",
    "                            \"AOIFixationProbability\": df_fixation_probability.values.reshape(37, ),\n",
    "                            \"Skill\": df_metrics_skill.groupby([\"Participant\"])[\"SkillScore\"].mean().values})\n",
    "# get spearman correlation for metrics and skill level\n",
    "df_combined.corrwith(df_metrics_skill[\"SkillScore\"])"
   ],
   "metadata": {
    "collapsed": false,
    "pycharm": {
     "name": "#%%\n"
    }
   }
  },
  {
   "cell_type": "code",
   "execution_count": 11,
   "outputs": [
    {
     "data": {
      "text/plain": "       FirstFixationDuration  SingleFixationDuration  GazeDuration  TotalTime  \\\ncount              37.000000               37.000000     37.000000  37.000000   \nmean                0.154036                0.153855      0.179826   3.859621   \nstd                 0.026215                0.026328      0.037157   1.674511   \nmin                 0.106272                0.106149      0.112420   1.408802   \n25%                 0.134010                0.132343      0.147922   2.817690   \n50%                 0.150493                0.151062      0.174769   3.610357   \n75%                 0.173985                0.174368      0.198309   4.638764   \nmax                 0.215400                0.214731      0.280047   9.329145   \n\n       AOINoFixationProbability  AOISingleFixationProbability  \\\ncount                 37.000000                     37.000000   \nmean                   0.349632                      0.135855   \nstd                    0.140566                      0.023626   \nmin                    0.112327                      0.094719   \n25%                    0.259988                      0.118509   \n50%                    0.317744                      0.138330   \n75%                    0.440017                      0.147765   \nmax                    0.713898                      0.195601   \n\n       AOIMultipleFixationProbability  AOIFixationProbability      Skill  \ncount                       37.000000               37.000000  37.000000  \nmean                         0.713390                0.799268   0.325230  \nstd                          0.106654                0.104031   0.102510  \nmin                          0.335170                0.416149   0.142520  \n25%                          0.675850                0.751800   0.259896  \n50%                          0.710154                0.813765   0.315932  \n75%                          0.789021                0.874982   0.379187  \nmax                          0.875634                0.943837   0.656726  ",
      "text/html": "<div>\n<style scoped>\n    .dataframe tbody tr th:only-of-type {\n        vertical-align: middle;\n    }\n\n    .dataframe tbody tr th {\n        vertical-align: top;\n    }\n\n    .dataframe thead th {\n        text-align: right;\n    }\n</style>\n<table border=\"1\" class=\"dataframe\">\n  <thead>\n    <tr style=\"text-align: right;\">\n      <th></th>\n      <th>FirstFixationDuration</th>\n      <th>SingleFixationDuration</th>\n      <th>GazeDuration</th>\n      <th>TotalTime</th>\n      <th>AOINoFixationProbability</th>\n      <th>AOISingleFixationProbability</th>\n      <th>AOIMultipleFixationProbability</th>\n      <th>AOIFixationProbability</th>\n      <th>Skill</th>\n    </tr>\n  </thead>\n  <tbody>\n    <tr>\n      <th>count</th>\n      <td>37.000000</td>\n      <td>37.000000</td>\n      <td>37.000000</td>\n      <td>37.000000</td>\n      <td>37.000000</td>\n      <td>37.000000</td>\n      <td>37.000000</td>\n      <td>37.000000</td>\n      <td>37.000000</td>\n    </tr>\n    <tr>\n      <th>mean</th>\n      <td>0.154036</td>\n      <td>0.153855</td>\n      <td>0.179826</td>\n      <td>3.859621</td>\n      <td>0.349632</td>\n      <td>0.135855</td>\n      <td>0.713390</td>\n      <td>0.799268</td>\n      <td>0.325230</td>\n    </tr>\n    <tr>\n      <th>std</th>\n      <td>0.026215</td>\n      <td>0.026328</td>\n      <td>0.037157</td>\n      <td>1.674511</td>\n      <td>0.140566</td>\n      <td>0.023626</td>\n      <td>0.106654</td>\n      <td>0.104031</td>\n      <td>0.102510</td>\n    </tr>\n    <tr>\n      <th>min</th>\n      <td>0.106272</td>\n      <td>0.106149</td>\n      <td>0.112420</td>\n      <td>1.408802</td>\n      <td>0.112327</td>\n      <td>0.094719</td>\n      <td>0.335170</td>\n      <td>0.416149</td>\n      <td>0.142520</td>\n    </tr>\n    <tr>\n      <th>25%</th>\n      <td>0.134010</td>\n      <td>0.132343</td>\n      <td>0.147922</td>\n      <td>2.817690</td>\n      <td>0.259988</td>\n      <td>0.118509</td>\n      <td>0.675850</td>\n      <td>0.751800</td>\n      <td>0.259896</td>\n    </tr>\n    <tr>\n      <th>50%</th>\n      <td>0.150493</td>\n      <td>0.151062</td>\n      <td>0.174769</td>\n      <td>3.610357</td>\n      <td>0.317744</td>\n      <td>0.138330</td>\n      <td>0.710154</td>\n      <td>0.813765</td>\n      <td>0.315932</td>\n    </tr>\n    <tr>\n      <th>75%</th>\n      <td>0.173985</td>\n      <td>0.174368</td>\n      <td>0.198309</td>\n      <td>4.638764</td>\n      <td>0.440017</td>\n      <td>0.147765</td>\n      <td>0.789021</td>\n      <td>0.874982</td>\n      <td>0.379187</td>\n    </tr>\n    <tr>\n      <th>max</th>\n      <td>0.215400</td>\n      <td>0.214731</td>\n      <td>0.280047</td>\n      <td>9.329145</td>\n      <td>0.713898</td>\n      <td>0.195601</td>\n      <td>0.875634</td>\n      <td>0.943837</td>\n      <td>0.656726</td>\n    </tr>\n  </tbody>\n</table>\n</div>"
     },
     "execution_count": 11,
     "metadata": {},
     "output_type": "execute_result"
    }
   ],
   "source": [
    "df_combined.describe()"
   ],
   "metadata": {
    "collapsed": false,
    "pycharm": {
     "name": "#%%\n"
    }
   }
  },
  {
   "cell_type": "code",
   "execution_count": null,
   "outputs": [],
   "source": [],
   "metadata": {
    "collapsed": false,
    "pycharm": {
     "name": "#%%\n"
    }
   }
  }
 ],
 "metadata": {
  "kernelspec": {
   "display_name": "Python 3",
   "language": "python",
   "name": "python3"
  },
  "language_info": {
   "codemirror_mode": {
    "name": "ipython",
    "version": 2
   },
   "file_extension": ".py",
   "mimetype": "text/x-python",
   "name": "python",
   "nbconvert_exporter": "python",
   "pygments_lexer": "ipython2",
   "version": "2.7.6"
  }
 },
 "nbformat": 4,
 "nbformat_minor": 0
}