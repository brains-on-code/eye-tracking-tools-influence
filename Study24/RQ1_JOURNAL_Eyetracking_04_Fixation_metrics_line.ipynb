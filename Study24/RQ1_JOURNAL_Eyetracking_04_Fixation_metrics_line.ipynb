{
 "cells": [
  {
   "cell_type": "markdown",
   "metadata": {
    "collapsed": true,
    "pycharm": {
     "name": "#%% md\n"
    }
   },
   "source": [
    "# RQ1 - Eyetracking Fixation Metrics"
   ]
  },
  {
   "cell_type": "markdown",
   "source": [
    "## Import Libraries"
   ],
   "metadata": {
    "collapsed": false,
    "pycharm": {
     "name": "#%% md\n"
    }
   }
  },
  {
   "cell_type": "code",
   "execution_count": 3,
   "outputs": [],
   "source": [
    "import numpy as np\n",
    "import pandas as pd\n",
    "from tqdm.notebook import tqdm\n",
    "import utils.GenSnippetsLib as gsl\n",
    "import json\n",
    "import os"
   ],
   "metadata": {
    "collapsed": false,
    "pycharm": {
     "name": "#%%\n"
    }
   }
  },
  {
   "cell_type": "code",
   "execution_count": 4,
   "outputs": [],
   "source": [
    "screen_resolution = (1920, 1080)"
   ],
   "metadata": {
    "collapsed": false,
    "pycharm": {
     "name": "#%%\n"
    }
   }
  },
  {
   "cell_type": "markdown",
   "source": [
    "## Import Eyetracking Data"
   ],
   "metadata": {
    "collapsed": false,
    "pycharm": {
     "name": "#%% md\n"
    }
   }
  },
  {
   "cell_type": "code",
   "execution_count": 5,
   "outputs": [
    {
     "data": {
      "text/plain": "     Participant            Algorithm  \\\n0              1              IsPrime   \n1              1  SiebDesEratosthenes   \n2              1            IsAnagram   \n3              1     RemoveDoubleChar   \n4              1         BinToDecimal   \n...          ...                  ...   \n1067          71             BogoSort   \n1068          71         ReverseQueue   \n1069          71             Ackerman   \n1070          71       RabbitTortoise   \n1071          71            Rectangle   \n\n                                                   Path  \n0     ./data/filteredData/Participant01/IsPrime_Code...  \n1     ./data/filteredData/Participant01/SiebDesErato...  \n2     ./data/filteredData/Participant01/IsAnagram_Co...  \n3     ./data/filteredData/Participant01/RemoveDouble...  \n4     ./data/filteredData/Participant01/BinToDecimal...  \n...                                                 ...  \n1067  ./data/filteredData/Participant71/BogoSort_Cod...  \n1068  ./data/filteredData/Participant71/ReverseQueue...  \n1069  ./data/filteredData/Participant71/Ackerman_Cod...  \n1070  ./data/filteredData/Participant71/RabbitTortoi...  \n1071  ./data/filteredData/Participant71/Rectangle_Co...  \n\n[1072 rows x 3 columns]",
      "text/html": "<div>\n<style scoped>\n    .dataframe tbody tr th:only-of-type {\n        vertical-align: middle;\n    }\n\n    .dataframe tbody tr th {\n        vertical-align: top;\n    }\n\n    .dataframe thead th {\n        text-align: right;\n    }\n</style>\n<table border=\"1\" class=\"dataframe\">\n  <thead>\n    <tr style=\"text-align: right;\">\n      <th></th>\n      <th>Participant</th>\n      <th>Algorithm</th>\n      <th>Path</th>\n    </tr>\n  </thead>\n  <tbody>\n    <tr>\n      <th>0</th>\n      <td>1</td>\n      <td>IsPrime</td>\n      <td>./data/filteredData/Participant01/IsPrime_Code...</td>\n    </tr>\n    <tr>\n      <th>1</th>\n      <td>1</td>\n      <td>SiebDesEratosthenes</td>\n      <td>./data/filteredData/Participant01/SiebDesErato...</td>\n    </tr>\n    <tr>\n      <th>2</th>\n      <td>1</td>\n      <td>IsAnagram</td>\n      <td>./data/filteredData/Participant01/IsAnagram_Co...</td>\n    </tr>\n    <tr>\n      <th>3</th>\n      <td>1</td>\n      <td>RemoveDoubleChar</td>\n      <td>./data/filteredData/Participant01/RemoveDouble...</td>\n    </tr>\n    <tr>\n      <th>4</th>\n      <td>1</td>\n      <td>BinToDecimal</td>\n      <td>./data/filteredData/Participant01/BinToDecimal...</td>\n    </tr>\n    <tr>\n      <th>...</th>\n      <td>...</td>\n      <td>...</td>\n      <td>...</td>\n    </tr>\n    <tr>\n      <th>1067</th>\n      <td>71</td>\n      <td>BogoSort</td>\n      <td>./data/filteredData/Participant71/BogoSort_Cod...</td>\n    </tr>\n    <tr>\n      <th>1068</th>\n      <td>71</td>\n      <td>ReverseQueue</td>\n      <td>./data/filteredData/Participant71/ReverseQueue...</td>\n    </tr>\n    <tr>\n      <th>1069</th>\n      <td>71</td>\n      <td>Ackerman</td>\n      <td>./data/filteredData/Participant71/Ackerman_Cod...</td>\n    </tr>\n    <tr>\n      <th>1070</th>\n      <td>71</td>\n      <td>RabbitTortoise</td>\n      <td>./data/filteredData/Participant71/RabbitTortoi...</td>\n    </tr>\n    <tr>\n      <th>1071</th>\n      <td>71</td>\n      <td>Rectangle</td>\n      <td>./data/filteredData/Participant71/Rectangle_Co...</td>\n    </tr>\n  </tbody>\n</table>\n<p>1072 rows × 3 columns</p>\n</div>"
     },
     "execution_count": 5,
     "metadata": {},
     "output_type": "execute_result"
    }
   ],
   "source": [
    "df_query = pd.read_csv(\"./data/filteredData/filtered_data.csv\")\n",
    "df_eyetracking_events = pd.DataFrame(columns=[\"Participant\", \"Algorithm\", \"Path\"])\n",
    "snippets = df_query[\"Algorithm\"].unique()\n",
    "participants = df_query[\"Participant\"].unique()\n",
    "for participant in participants:\n",
    "    for snippet in snippets:\n",
    "        path = f\"./data/filteredData/Participant{str(participant).zfill(2)}/{snippet}_Code_eyetracking.csv\"\n",
    "        # check if path exists\n",
    "        if os.path.exists(path):\n",
    "            df_eyetracking_events.loc[len(df_eyetracking_events)] = [participant, snippet, path]\n",
    "df_eyetracking_events"
   ],
   "metadata": {
    "collapsed": false,
    "pycharm": {
     "name": "#%%\n"
    }
   }
  },
  {
   "cell_type": "code",
   "execution_count": 6,
   "outputs": [],
   "source": [
    "df_filtered = pd.read_csv(\"./data/filteredData/filtered_data.csv\")\n",
    "Algorithms = df_filtered[\"Algorithm\"].unique()\n",
    "Participants = df_filtered[df_filtered[\"IsOutlier\"] == False][\"Participant\"].unique()"
   ],
   "metadata": {
    "collapsed": false,
    "pycharm": {
     "name": "#%%\n"
    }
   }
  },
  {
   "cell_type": "code",
   "execution_count": 7,
   "outputs": [],
   "source": [
    "def doBoxesCollide(a, b):\n",
    "    a_x_center = a[0]\n",
    "    a_y_center = a[1]\n",
    "    a_width = a[2]\n",
    "    a_height = a[3]\n",
    "    b_x_center = b[0]\n",
    "    b_y_center = b[1]\n",
    "    b_width = b[2]\n",
    "    b_height = b[3]\n",
    "    return abs(a_x_center - b_x_center) * 2 < (a_width + b_width) and abs(a_y_center - b_y_center) * 2 < (a_height + b_height)"
   ],
   "metadata": {
    "collapsed": false,
    "pycharm": {
     "name": "#%%\n"
    }
   }
  },
  {
   "cell_type": "markdown",
   "source": [],
   "metadata": {
    "collapsed": false,
    "pycharm": {
     "name": "#%% md\n"
    }
   }
  },
  {
   "cell_type": "markdown",
   "source": [
    "# Calculate Line based Metrics"
   ],
   "metadata": {
    "collapsed": false,
    "pycharm": {
     "name": "#%% md\n"
    }
   }
  },
  {
   "cell_type": "code",
   "execution_count": 8,
   "outputs": [
    {
     "data": {
      "text/plain": "  0%|          | 0/32 [00:00<?, ?it/s]",
      "application/vnd.jupyter.widget-view+json": {
       "version_major": 2,
       "version_minor": 0,
       "model_id": "e73ca3bf02034da7bf31cd668b83be2a"
      }
     },
     "metadata": {},
     "output_type": "display_data"
    },
    {
     "data": {
      "text/plain": "     Algorithm Line            BoundingBox\n0      IsPrime    0  (768, 467, 1152, 482)\n1      IsPrime    1  (768, 486, 1112, 501)\n2      IsPrime    2  (768, 505, 1049, 519)\n3      IsPrime    3  (768, 526, 1008, 539)\n4      IsPrime    4   (768, 543, 880, 557)\n..         ...  ...                    ...\n429  Rectangle   12  (740, 601, 1012, 615)\n430  Rectangle   13   (740, 619, 788, 633)\n431  Rectangle   15   (740, 657, 956, 672)\n432  Rectangle   16  (740, 676, 1100, 691)\n433  Rectangle   17   (740, 695, 788, 709)\n\n[434 rows x 3 columns]",
      "text/html": "<div>\n<style scoped>\n    .dataframe tbody tr th:only-of-type {\n        vertical-align: middle;\n    }\n\n    .dataframe tbody tr th {\n        vertical-align: top;\n    }\n\n    .dataframe thead th {\n        text-align: right;\n    }\n</style>\n<table border=\"1\" class=\"dataframe\">\n  <thead>\n    <tr style=\"text-align: right;\">\n      <th></th>\n      <th>Algorithm</th>\n      <th>Line</th>\n      <th>BoundingBox</th>\n    </tr>\n  </thead>\n  <tbody>\n    <tr>\n      <th>0</th>\n      <td>IsPrime</td>\n      <td>0</td>\n      <td>(768, 467, 1152, 482)</td>\n    </tr>\n    <tr>\n      <th>1</th>\n      <td>IsPrime</td>\n      <td>1</td>\n      <td>(768, 486, 1112, 501)</td>\n    </tr>\n    <tr>\n      <th>2</th>\n      <td>IsPrime</td>\n      <td>2</td>\n      <td>(768, 505, 1049, 519)</td>\n    </tr>\n    <tr>\n      <th>3</th>\n      <td>IsPrime</td>\n      <td>3</td>\n      <td>(768, 526, 1008, 539)</td>\n    </tr>\n    <tr>\n      <th>4</th>\n      <td>IsPrime</td>\n      <td>4</td>\n      <td>(768, 543, 880, 557)</td>\n    </tr>\n    <tr>\n      <th>...</th>\n      <td>...</td>\n      <td>...</td>\n      <td>...</td>\n    </tr>\n    <tr>\n      <th>429</th>\n      <td>Rectangle</td>\n      <td>12</td>\n      <td>(740, 601, 1012, 615)</td>\n    </tr>\n    <tr>\n      <th>430</th>\n      <td>Rectangle</td>\n      <td>13</td>\n      <td>(740, 619, 788, 633)</td>\n    </tr>\n    <tr>\n      <th>431</th>\n      <td>Rectangle</td>\n      <td>15</td>\n      <td>(740, 657, 956, 672)</td>\n    </tr>\n    <tr>\n      <th>432</th>\n      <td>Rectangle</td>\n      <td>16</td>\n      <td>(740, 676, 1100, 691)</td>\n    </tr>\n    <tr>\n      <th>433</th>\n      <td>Rectangle</td>\n      <td>17</td>\n      <td>(740, 695, 788, 709)</td>\n    </tr>\n  </tbody>\n</table>\n<p>434 rows × 3 columns</p>\n</div>"
     },
     "execution_count": 8,
     "metadata": {},
     "output_type": "execute_result"
    }
   ],
   "source": [
    "# Get Bounding Boxes for Lines Of Code\n",
    "df_lines = pd.DataFrame(columns=[\"Algorithm\", \"Line\", \"BoundingBox\"])\n",
    "for snippet in tqdm(Algorithms):\n",
    "    aoi_token_generator = f\"./../CodeSnippets/Generators_Labeled/Generators/{snippet}_ast.json\"\n",
    "    image, aoi_list = gsl.create_image(aoi_token_generator, font_path=\"./../CodeSnippets/fonts/ttf/\")\n",
    "    height, width = image.size\n",
    "    width_offset = int(1920 * 0.5) - int(height / 2)\n",
    "    height_offset = int(1080 * 0.5) - int(width / 2)\n",
    "    aoi_clustered = []\n",
    "    current_left = None\n",
    "    current_top = None\n",
    "    current_right = None\n",
    "    current_bottom = None\n",
    "    current_line = 0\n",
    "    for letter in aoi_list:\n",
    "        if letter[\"letter\"] == '\\n':\n",
    "            if current_left is not None:\n",
    "                aoi_clustered.append((current_line, current_left, current_top, current_right, current_bottom))\n",
    "            current_left = None\n",
    "            current_top = None\n",
    "            current_right = None\n",
    "            current_bottom = None\n",
    "            current_line += 1\n",
    "            continue\n",
    "        if current_left is None:\n",
    "            current_left = letter[\"BoundingBox\"][0]\n",
    "            current_top = letter[\"BoundingBox\"][1]\n",
    "            current_right = letter[\"BoundingBox\"][2]\n",
    "            current_bottom = letter[\"BoundingBox\"][3]\n",
    "        else:\n",
    "            current_left = min(current_left, letter[\"BoundingBox\"][0])\n",
    "            current_top = min(current_top, letter[\"BoundingBox\"][1])\n",
    "            current_right = max(current_right, letter[\"BoundingBox\"][2])\n",
    "            current_bottom = max(current_bottom, letter[\"BoundingBox\"][3])\n",
    "\n",
    "    for token in aoi_clustered:\n",
    "        df_lines.loc[len(df_lines)] = [snippet, token[0],\n",
    "                                       (token[1] + width_offset,\n",
    "                                        token[2] + height_offset,\n",
    "                                        token[3] + width_offset,\n",
    "                                        token[4] + height_offset)]\n",
    "df_lines"
   ],
   "metadata": {
    "collapsed": false,
    "pycharm": {
     "name": "#%%\n"
    }
   }
  },
  {
   "cell_type": "code",
   "execution_count": 9,
   "outputs": [
    {
     "data": {
      "text/plain": "  0%|          | 0/32 [00:00<?, ?it/s]",
      "application/vnd.jupyter.widget-view+json": {
       "version_major": 2,
       "version_minor": 0,
       "model_id": "7bae3ac322d845289ad6cc3d0948ac7d"
      }
     },
     "metadata": {},
     "output_type": "display_data"
    },
    {
     "data": {
      "text/plain": "        Algorithm Participant FixationNumber  FixationStart  FixationEnd  \\\n0         IsPrime           1              0          0.000        0.228   \n1         IsPrime           1              1          0.264        0.440   \n2         IsPrime           1              2          0.656        0.736   \n3         IsPrime           1              3          0.756        0.884   \n4         IsPrime           1              4          1.148        1.348   \n...           ...         ...            ...            ...          ...   \n172988  Rectangle          71             30          8.812        8.944   \n172989  Rectangle          71             31          8.996        9.080   \n172990  Rectangle          71             32          9.272        9.404   \n172991  Rectangle          71             33          9.436        9.596   \n172992  Rectangle          71             34          9.640        9.776   \n\n       LineNumber  \n0            None  \n1            None  \n2            None  \n3            None  \n4               0  \n...           ...  \n172988          3  \n172989       None  \n172990       None  \n172991          2  \n172992          3  \n\n[172993 rows x 6 columns]",
      "text/html": "<div>\n<style scoped>\n    .dataframe tbody tr th:only-of-type {\n        vertical-align: middle;\n    }\n\n    .dataframe tbody tr th {\n        vertical-align: top;\n    }\n\n    .dataframe thead th {\n        text-align: right;\n    }\n</style>\n<table border=\"1\" class=\"dataframe\">\n  <thead>\n    <tr style=\"text-align: right;\">\n      <th></th>\n      <th>Algorithm</th>\n      <th>Participant</th>\n      <th>FixationNumber</th>\n      <th>FixationStart</th>\n      <th>FixationEnd</th>\n      <th>LineNumber</th>\n    </tr>\n  </thead>\n  <tbody>\n    <tr>\n      <th>0</th>\n      <td>IsPrime</td>\n      <td>1</td>\n      <td>0</td>\n      <td>0.000</td>\n      <td>0.228</td>\n      <td>None</td>\n    </tr>\n    <tr>\n      <th>1</th>\n      <td>IsPrime</td>\n      <td>1</td>\n      <td>1</td>\n      <td>0.264</td>\n      <td>0.440</td>\n      <td>None</td>\n    </tr>\n    <tr>\n      <th>2</th>\n      <td>IsPrime</td>\n      <td>1</td>\n      <td>2</td>\n      <td>0.656</td>\n      <td>0.736</td>\n      <td>None</td>\n    </tr>\n    <tr>\n      <th>3</th>\n      <td>IsPrime</td>\n      <td>1</td>\n      <td>3</td>\n      <td>0.756</td>\n      <td>0.884</td>\n      <td>None</td>\n    </tr>\n    <tr>\n      <th>4</th>\n      <td>IsPrime</td>\n      <td>1</td>\n      <td>4</td>\n      <td>1.148</td>\n      <td>1.348</td>\n      <td>0</td>\n    </tr>\n    <tr>\n      <th>...</th>\n      <td>...</td>\n      <td>...</td>\n      <td>...</td>\n      <td>...</td>\n      <td>...</td>\n      <td>...</td>\n    </tr>\n    <tr>\n      <th>172988</th>\n      <td>Rectangle</td>\n      <td>71</td>\n      <td>30</td>\n      <td>8.812</td>\n      <td>8.944</td>\n      <td>3</td>\n    </tr>\n    <tr>\n      <th>172989</th>\n      <td>Rectangle</td>\n      <td>71</td>\n      <td>31</td>\n      <td>8.996</td>\n      <td>9.080</td>\n      <td>None</td>\n    </tr>\n    <tr>\n      <th>172990</th>\n      <td>Rectangle</td>\n      <td>71</td>\n      <td>32</td>\n      <td>9.272</td>\n      <td>9.404</td>\n      <td>None</td>\n    </tr>\n    <tr>\n      <th>172991</th>\n      <td>Rectangle</td>\n      <td>71</td>\n      <td>33</td>\n      <td>9.436</td>\n      <td>9.596</td>\n      <td>2</td>\n    </tr>\n    <tr>\n      <th>172992</th>\n      <td>Rectangle</td>\n      <td>71</td>\n      <td>34</td>\n      <td>9.640</td>\n      <td>9.776</td>\n      <td>3</td>\n    </tr>\n  </tbody>\n</table>\n<p>172993 rows × 6 columns</p>\n</div>"
     },
     "execution_count": 9,
     "metadata": {},
     "output_type": "execute_result"
    }
   ],
   "source": [
    "df_line_fixation_per_participant = pd.DataFrame([], columns=[\"Algorithm\", \"Participant\", \"FixationNumber\", \"FixationStart\", \"FixationEnd\", \"LineNumber\"])\n",
    "for snippet in tqdm(snippets):\n",
    "    df_lines_per_algo = df_lines[df_lines[\"Algorithm\"] == snippet]\n",
    "\n",
    "    for participant in Participants:\n",
    "        df_grouped = df_eyetracking_events[(df_eyetracking_events[\"Algorithm\"] == snippet) & (df_eyetracking_events[\"Participant\"] == participant)]\n",
    "\n",
    "        if len(df_grouped) == 0:\n",
    "            continue\n",
    "\n",
    "        eyetracking_path = df_grouped[\"Path\"].values[0]\n",
    "        df_current_eyetracking = pd.read_csv(eyetracking_path)\n",
    "        label = df_current_eyetracking[\"label\"].unique()\n",
    "        df_fix = df_current_eyetracking[df_current_eyetracking[\"label\"] == \"FIXA\"]\n",
    "        df_fix = df_fix.reset_index()\n",
    "        df_fix[\"y_range\"] = (df_fix[\"end_y\"] - df_fix[\"start_y\"]).apply(abs)\n",
    "        for fix_idx, fix_row in df_fix.iterrows():\n",
    "            y_fix_low = min(fix_row[\"start_y\"], fix_row[\"end_y\"])\n",
    "            y_fix_high = max(fix_row[\"start_y\"], fix_row[\"end_y\"])\n",
    "\n",
    "            was_in_aoi = False\n",
    "            for _, line_row in df_lines_per_algo.iterrows():\n",
    "                line_number = line_row[\"Line\"]\n",
    "                bounding_box = line_row[\"BoundingBox\"]\n",
    "                y_upper = bounding_box[1]\n",
    "                y_lower = bounding_box[3]\n",
    "                # check if any value is true\n",
    "                if y_upper <= y_fix_low <= y_lower or y_upper <= y_fix_high <= y_lower or y_fix_low < y_upper < y_fix_high or y_fix_low < y_lower < y_fix_high:\n",
    "                    df_line_fixation_per_participant.loc[len(df_line_fixation_per_participant)] = [snippet, participant, fix_idx, fix_row[\"start_time\"], fix_row[\"end_time\"], line_number]\n",
    "                    was_in_aoi = True\n",
    "                    break\n",
    "            if not was_in_aoi:\n",
    "                    df_line_fixation_per_participant.loc[len(df_line_fixation_per_participant)] = [snippet, participant, fix_idx, fix_row[\"start_time\"], fix_row[\"end_time\"], None]\n",
    "\n",
    "df_line_fixation_per_participant"
   ],
   "metadata": {
    "collapsed": false,
    "pycharm": {
     "name": "#%%\n"
    }
   }
  },
  {
   "cell_type": "code",
   "execution_count": 10,
   "outputs": [],
   "source": [
    "# save the result\n",
    "df_line_fixation_per_participant.to_csv(\"./data/fixation_per_participant_per_line.csv\", index=False)"
   ],
   "metadata": {
    "collapsed": false,
    "pycharm": {
     "name": "#%%\n"
    }
   }
  },
  {
   "cell_type": "code",
   "execution_count": 19,
   "outputs": [],
   "source": [
    "# load the result\n",
    "df_line_fixation_per_participant = pd.read_csv(\"./data/fixation_per_participant_per_line.csv\")"
   ],
   "metadata": {
    "collapsed": false,
    "pycharm": {
     "name": "#%%\n"
    }
   }
  },
  {
   "cell_type": "markdown",
   "source": [
    "## Calculate Metrics based on Code Lines"
   ],
   "metadata": {
    "collapsed": false,
    "pycharm": {
     "name": "#%% md\n"
    }
   }
  },
  {
   "cell_type": "code",
   "execution_count": 13,
   "outputs": [],
   "source": [
    "df_line_fixation_per_participant = df_line_fixation_per_participant[df_line_fixation_per_participant[\"LineNumber\"].isna() == False]"
   ],
   "metadata": {
    "collapsed": false,
    "pycharm": {
     "name": "#%%\n"
    }
   }
  },
  {
   "cell_type": "code",
   "execution_count": 14,
   "outputs": [
    {
     "data": {
      "text/plain": "  0%|          | 0/32 [00:00<?, ?it/s]",
      "application/vnd.jupyter.widget-view+json": {
       "version_major": 2,
       "version_minor": 0,
       "model_id": "8f4e1fd91bb54b98b2557384831ef671"
      }
     },
     "metadata": {},
     "output_type": "display_data"
    },
    {
     "data": {
      "text/plain": "                Algorithm LOC\n0                 IsPrime   8\n1     SiebDesEratosthenes  20\n2               IsAnagram  28\n3        RemoveDoubleChar  19\n4            BinToDecimal   9\n5           PermuteString  23\n6                   Power   7\n7            BinarySearch  15\n8       ContainsSubstring  21\n9            ReverseArray   7\n10               SumArray   9\n11         RectanglePower  11\n12                Vehicle  19\n13  GreatestCommonDivisor  18\n14                 HIndex  15\n15           LengthOfLast  17\n16         MedianOnSorted   8\n17            SignChecker  19\n18           ArrayAverage  12\n19             DropNumber  22\n20    BinomialCoefficient  12\n21             Palindrome   8\n22            DumpSorting  29\n23             InsertSort  15\n24           HeightOfTree  17\n25     CheckIfLettersOnly  11\n26             SmallGauss   7\n27               BogoSort  23\n28           ReverseQueue   8\n29               Ackerman   9\n30         RabbitTortoise  16\n31              Rectangle  18",
      "text/html": "<div>\n<style scoped>\n    .dataframe tbody tr th:only-of-type {\n        vertical-align: middle;\n    }\n\n    .dataframe tbody tr th {\n        vertical-align: top;\n    }\n\n    .dataframe thead th {\n        text-align: right;\n    }\n</style>\n<table border=\"1\" class=\"dataframe\">\n  <thead>\n    <tr style=\"text-align: right;\">\n      <th></th>\n      <th>Algorithm</th>\n      <th>LOC</th>\n    </tr>\n  </thead>\n  <tbody>\n    <tr>\n      <th>0</th>\n      <td>IsPrime</td>\n      <td>8</td>\n    </tr>\n    <tr>\n      <th>1</th>\n      <td>SiebDesEratosthenes</td>\n      <td>20</td>\n    </tr>\n    <tr>\n      <th>2</th>\n      <td>IsAnagram</td>\n      <td>28</td>\n    </tr>\n    <tr>\n      <th>3</th>\n      <td>RemoveDoubleChar</td>\n      <td>19</td>\n    </tr>\n    <tr>\n      <th>4</th>\n      <td>BinToDecimal</td>\n      <td>9</td>\n    </tr>\n    <tr>\n      <th>5</th>\n      <td>PermuteString</td>\n      <td>23</td>\n    </tr>\n    <tr>\n      <th>6</th>\n      <td>Power</td>\n      <td>7</td>\n    </tr>\n    <tr>\n      <th>7</th>\n      <td>BinarySearch</td>\n      <td>15</td>\n    </tr>\n    <tr>\n      <th>8</th>\n      <td>ContainsSubstring</td>\n      <td>21</td>\n    </tr>\n    <tr>\n      <th>9</th>\n      <td>ReverseArray</td>\n      <td>7</td>\n    </tr>\n    <tr>\n      <th>10</th>\n      <td>SumArray</td>\n      <td>9</td>\n    </tr>\n    <tr>\n      <th>11</th>\n      <td>RectanglePower</td>\n      <td>11</td>\n    </tr>\n    <tr>\n      <th>12</th>\n      <td>Vehicle</td>\n      <td>19</td>\n    </tr>\n    <tr>\n      <th>13</th>\n      <td>GreatestCommonDivisor</td>\n      <td>18</td>\n    </tr>\n    <tr>\n      <th>14</th>\n      <td>HIndex</td>\n      <td>15</td>\n    </tr>\n    <tr>\n      <th>15</th>\n      <td>LengthOfLast</td>\n      <td>17</td>\n    </tr>\n    <tr>\n      <th>16</th>\n      <td>MedianOnSorted</td>\n      <td>8</td>\n    </tr>\n    <tr>\n      <th>17</th>\n      <td>SignChecker</td>\n      <td>19</td>\n    </tr>\n    <tr>\n      <th>18</th>\n      <td>ArrayAverage</td>\n      <td>12</td>\n    </tr>\n    <tr>\n      <th>19</th>\n      <td>DropNumber</td>\n      <td>22</td>\n    </tr>\n    <tr>\n      <th>20</th>\n      <td>BinomialCoefficient</td>\n      <td>12</td>\n    </tr>\n    <tr>\n      <th>21</th>\n      <td>Palindrome</td>\n      <td>8</td>\n    </tr>\n    <tr>\n      <th>22</th>\n      <td>DumpSorting</td>\n      <td>29</td>\n    </tr>\n    <tr>\n      <th>23</th>\n      <td>InsertSort</td>\n      <td>15</td>\n    </tr>\n    <tr>\n      <th>24</th>\n      <td>HeightOfTree</td>\n      <td>17</td>\n    </tr>\n    <tr>\n      <th>25</th>\n      <td>CheckIfLettersOnly</td>\n      <td>11</td>\n    </tr>\n    <tr>\n      <th>26</th>\n      <td>SmallGauss</td>\n      <td>7</td>\n    </tr>\n    <tr>\n      <th>27</th>\n      <td>BogoSort</td>\n      <td>23</td>\n    </tr>\n    <tr>\n      <th>28</th>\n      <td>ReverseQueue</td>\n      <td>8</td>\n    </tr>\n    <tr>\n      <th>29</th>\n      <td>Ackerman</td>\n      <td>9</td>\n    </tr>\n    <tr>\n      <th>30</th>\n      <td>RabbitTortoise</td>\n      <td>16</td>\n    </tr>\n    <tr>\n      <th>31</th>\n      <td>Rectangle</td>\n      <td>18</td>\n    </tr>\n  </tbody>\n</table>\n</div>"
     },
     "execution_count": 14,
     "metadata": {},
     "output_type": "execute_result"
    }
   ],
   "source": [
    "# Calculate the LOCs\n",
    "df_snippet_length = pd.DataFrame(columns=[\"Algorithm\", \"LOC\"])\n",
    "for snippet in tqdm(Algorithms):\n",
    "    aoi_token_generator = f\"./../CodeSnippets/Generators_Labeled/Generators/{snippet}_ast.json\"\n",
    "    with open(aoi_token_generator) as f:\n",
    "        aoi_list = json.load(f)\n",
    "        data = aoi_list[\"source-code\"]\n",
    "        LOC = len(data)\n",
    "        df_snippet_length.loc[len(df_snippet_length)] = [snippet, LOC]\n",
    "df_snippet_length"
   ],
   "metadata": {
    "collapsed": false,
    "pycharm": {
     "name": "#%%\n"
    }
   }
  },
  {
   "cell_type": "code",
   "execution_count": 15,
   "outputs": [
    {
     "data": {
      "text/plain": "      Participant              Algorithm    Duration  SkillScore\n0               1                IsPrime   12.390280    0.332799\n2               1              IsAnagram  109.615724    0.332799\n3               1       RemoveDoubleChar   53.456276    0.332799\n4               1           BinToDecimal   49.922091    0.332799\n5               1          PermuteString  109.888549    0.332799\n...           ...                    ...         ...         ...\n1066           71  GreatestCommonDivisor   30.757360    0.437218\n1067           71            DumpSorting  113.368945    0.437218\n1068           71    BinomialCoefficient   50.637861    0.437218\n1069           71              IsAnagram  110.995754    0.437218\n1070           71           ArrayAverage    8.310264    0.437218\n\n[1009 rows x 4 columns]",
      "text/html": "<div>\n<style scoped>\n    .dataframe tbody tr th:only-of-type {\n        vertical-align: middle;\n    }\n\n    .dataframe tbody tr th {\n        vertical-align: top;\n    }\n\n    .dataframe thead th {\n        text-align: right;\n    }\n</style>\n<table border=\"1\" class=\"dataframe\">\n  <thead>\n    <tr style=\"text-align: right;\">\n      <th></th>\n      <th>Participant</th>\n      <th>Algorithm</th>\n      <th>Duration</th>\n      <th>SkillScore</th>\n    </tr>\n  </thead>\n  <tbody>\n    <tr>\n      <th>0</th>\n      <td>1</td>\n      <td>IsPrime</td>\n      <td>12.390280</td>\n      <td>0.332799</td>\n    </tr>\n    <tr>\n      <th>2</th>\n      <td>1</td>\n      <td>IsAnagram</td>\n      <td>109.615724</td>\n      <td>0.332799</td>\n    </tr>\n    <tr>\n      <th>3</th>\n      <td>1</td>\n      <td>RemoveDoubleChar</td>\n      <td>53.456276</td>\n      <td>0.332799</td>\n    </tr>\n    <tr>\n      <th>4</th>\n      <td>1</td>\n      <td>BinToDecimal</td>\n      <td>49.922091</td>\n      <td>0.332799</td>\n    </tr>\n    <tr>\n      <th>5</th>\n      <td>1</td>\n      <td>PermuteString</td>\n      <td>109.888549</td>\n      <td>0.332799</td>\n    </tr>\n    <tr>\n      <th>...</th>\n      <td>...</td>\n      <td>...</td>\n      <td>...</td>\n      <td>...</td>\n    </tr>\n    <tr>\n      <th>1066</th>\n      <td>71</td>\n      <td>GreatestCommonDivisor</td>\n      <td>30.757360</td>\n      <td>0.437218</td>\n    </tr>\n    <tr>\n      <th>1067</th>\n      <td>71</td>\n      <td>DumpSorting</td>\n      <td>113.368945</td>\n      <td>0.437218</td>\n    </tr>\n    <tr>\n      <th>1068</th>\n      <td>71</td>\n      <td>BinomialCoefficient</td>\n      <td>50.637861</td>\n      <td>0.437218</td>\n    </tr>\n    <tr>\n      <th>1069</th>\n      <td>71</td>\n      <td>IsAnagram</td>\n      <td>110.995754</td>\n      <td>0.437218</td>\n    </tr>\n    <tr>\n      <th>1070</th>\n      <td>71</td>\n      <td>ArrayAverage</td>\n      <td>8.310264</td>\n      <td>0.437218</td>\n    </tr>\n  </tbody>\n</table>\n<p>1009 rows × 4 columns</p>\n</div>"
     },
     "execution_count": 15,
     "metadata": {},
     "output_type": "execute_result"
    }
   ],
   "source": [
    "# read in Behavioural and Skills data\n",
    "df_behavioral = pd.read_csv('./data/filteredData/fixation_stats.csv', sep=\";\")\n",
    "df_behavioral = df_behavioral[df_behavioral[\"IsOutlier\"] == False]\n",
    "df_behavioral = df_behavioral[[\"Participant\", \"Algorithm\", \"Duration\", \"SkillScore\"]]\n",
    "df_behavioral"
   ],
   "metadata": {
    "collapsed": false,
    "pycharm": {
     "name": "#%%\n"
    }
   }
  },
  {
   "cell_type": "code",
   "execution_count": 19,
   "outputs": [
    {
     "data": {
      "text/plain": "                  10%       20%       30%       40%       50%       60%  \\\nParticipant                                                               \n1            0.146680  0.285978  0.383355  0.465116  0.532492  0.597804   \n2            0.149559  0.246279  0.350841  0.418662  0.469966  0.520825   \n3            0.300844  0.486081  0.585241  0.682984  0.741255  0.772132   \n4            0.125477  0.293682  0.411732  0.500067  0.549466  0.588629   \n5            0.184094  0.273982  0.352204  0.421866  0.492056  0.573894   \n6            0.109909  0.239896  0.376225  0.487325  0.593846  0.644880   \n7            0.084013  0.209871  0.301367  0.372163  0.427588  0.452712   \n10           0.091872  0.176927  0.267090  0.335192  0.429375  0.495449   \n11           0.119474  0.271348  0.390908  0.408926  0.467726  0.506358   \n12           0.072952  0.221803  0.329185  0.433590  0.508631  0.580302   \n13           0.059455  0.116748  0.225215  0.275464  0.355880  0.408191   \n14           0.030867  0.141294  0.203118  0.279536  0.376197  0.464071   \n18           0.100203  0.194782  0.246993  0.278710  0.385945  0.469192   \n22           0.142905  0.216687  0.280354  0.333252  0.402871  0.423773   \n24           0.041892  0.128213  0.194006  0.251825  0.310271  0.373513   \n25           0.079117  0.176428  0.254611  0.310761  0.363560  0.401470   \n28           0.175967  0.334974  0.451695  0.520436  0.577228  0.625444   \n35           0.018167  0.082769  0.142943  0.237823  0.297515  0.353708   \n36           0.041664  0.138768  0.242361  0.318967  0.355524  0.395426   \n37           0.154218  0.267825  0.388641  0.479837  0.550402  0.605611   \n38           0.062018  0.168884  0.267270  0.339911  0.412030  0.489034   \n41           0.216236  0.298929  0.355754  0.389176  0.420097  0.428237   \n42           0.185402  0.259789  0.343544  0.454972  0.527120  0.594246   \n49           0.351280  0.549756  0.667279  0.777498  0.837492  0.856962   \n50           0.023709  0.081035  0.158214  0.254394  0.367852  0.436222   \n55           0.008798  0.074889  0.154118  0.243548  0.343045  0.396576   \n58           0.176201  0.404402  0.576156  0.671404  0.718827  0.773909   \n59           0.048737  0.108460  0.182801  0.221730  0.258841  0.293447   \n60           0.011999  0.073996  0.161093  0.215073  0.277198  0.316086   \n61           0.023303  0.126386  0.219531  0.295407  0.405776  0.471984   \n62           0.193915  0.325801  0.409297  0.475889  0.547253  0.598080   \n63           0.143450  0.312781  0.413669  0.496338  0.557610  0.608141   \n66           0.107245  0.215137  0.292405  0.398486  0.483222  0.544288   \n67           0.154186  0.260445  0.360398  0.471945  0.538360  0.606968   \n68           0.110239  0.268907  0.349666  0.433912  0.481280  0.540837   \n70           0.240574  0.338928  0.435970  0.511033  0.569167  0.601660   \n71           0.185673  0.291381  0.393218  0.507118  0.570192  0.599201   \n\n                  70%       80%       90%      100%  SkillScore  \nParticipant                                                      \n1            0.633861  0.665345  0.720942  0.766538    0.332799  \n2            0.584122  0.627649  0.670700  0.706364    0.381621  \n3            0.801960  0.817506  0.827659  0.843368    0.315012  \n4            0.629069  0.658221  0.697029  0.762320    0.426317  \n5            0.652752  0.686290  0.725607  0.768767    0.313899  \n6            0.703852  0.762052  0.803980  0.826108    0.318673  \n7            0.478599  0.506967  0.565844  0.601748    0.408083  \n10           0.536660  0.594485  0.628502  0.668651    0.350811  \n11           0.527032  0.543912  0.586293  0.716151    0.165306  \n12           0.623447  0.688447  0.706934  0.755497    0.309593  \n13           0.480799  0.517338  0.567690  0.664801    0.406495  \n14           0.509408  0.596827  0.640165  0.673727    0.317033  \n18           0.539929  0.583342  0.634349  0.723539    0.228313  \n22           0.473053  0.490625  0.508452  0.597704    0.328529  \n24           0.426521  0.462688  0.522564  0.618444    0.213231  \n25           0.441587  0.477159  0.509384  0.581716    0.293810  \n28           0.671878  0.713804  0.744065  0.792024    0.293410  \n35           0.427129  0.477606  0.531407  0.601034    0.659556  \n36           0.456667  0.506021  0.536935  0.591486    0.370253  \n37           0.649902  0.678848  0.707562  0.794502    0.325933  \n38           0.522950  0.568759  0.602180  0.653487    0.396103  \n41           0.437398  0.445011  0.450318  0.455626    0.317626  \n42           0.629840  0.684648  0.738508  0.791655    0.311979  \n49           0.876683  0.896048  0.899556  0.904001    0.144164  \n50           0.488594  0.546126  0.608386  0.677022    0.248324  \n55           0.495640  0.568924  0.629366  0.708962    0.204661  \n58           0.836351  0.868425  0.886497  0.889003    0.184550  \n59           0.330956  0.352365  0.380415  0.525601    0.272881  \n60           0.349676  0.389539  0.454920  0.506439    0.402495  \n61           0.532060  0.582116  0.615053  0.672670    0.195626  \n62           0.634092  0.680632  0.727285  0.775421    0.354361  \n63           0.628033  0.665397  0.711884  0.753121    0.334209  \n66           0.600143  0.641435  0.671974  0.728186    0.539795  \n67           0.656962  0.705318  0.739386  0.766181    0.262502  \n68           0.596378  0.629836  0.681763  0.734618    0.435029  \n70           0.633340  0.665361  0.713928  0.774387    0.234437  \n71           0.636645  0.673584  0.710632  0.744542    0.437218  ",
      "text/html": "<div>\n<style scoped>\n    .dataframe tbody tr th:only-of-type {\n        vertical-align: middle;\n    }\n\n    .dataframe tbody tr th {\n        vertical-align: top;\n    }\n\n    .dataframe thead th {\n        text-align: right;\n    }\n</style>\n<table border=\"1\" class=\"dataframe\">\n  <thead>\n    <tr style=\"text-align: right;\">\n      <th></th>\n      <th>10%</th>\n      <th>20%</th>\n      <th>30%</th>\n      <th>40%</th>\n      <th>50%</th>\n      <th>60%</th>\n      <th>70%</th>\n      <th>80%</th>\n      <th>90%</th>\n      <th>100%</th>\n      <th>SkillScore</th>\n    </tr>\n    <tr>\n      <th>Participant</th>\n      <th></th>\n      <th></th>\n      <th></th>\n      <th></th>\n      <th></th>\n      <th></th>\n      <th></th>\n      <th></th>\n      <th></th>\n      <th></th>\n      <th></th>\n    </tr>\n  </thead>\n  <tbody>\n    <tr>\n      <th>1</th>\n      <td>0.146680</td>\n      <td>0.285978</td>\n      <td>0.383355</td>\n      <td>0.465116</td>\n      <td>0.532492</td>\n      <td>0.597804</td>\n      <td>0.633861</td>\n      <td>0.665345</td>\n      <td>0.720942</td>\n      <td>0.766538</td>\n      <td>0.332799</td>\n    </tr>\n    <tr>\n      <th>2</th>\n      <td>0.149559</td>\n      <td>0.246279</td>\n      <td>0.350841</td>\n      <td>0.418662</td>\n      <td>0.469966</td>\n      <td>0.520825</td>\n      <td>0.584122</td>\n      <td>0.627649</td>\n      <td>0.670700</td>\n      <td>0.706364</td>\n      <td>0.381621</td>\n    </tr>\n    <tr>\n      <th>3</th>\n      <td>0.300844</td>\n      <td>0.486081</td>\n      <td>0.585241</td>\n      <td>0.682984</td>\n      <td>0.741255</td>\n      <td>0.772132</td>\n      <td>0.801960</td>\n      <td>0.817506</td>\n      <td>0.827659</td>\n      <td>0.843368</td>\n      <td>0.315012</td>\n    </tr>\n    <tr>\n      <th>4</th>\n      <td>0.125477</td>\n      <td>0.293682</td>\n      <td>0.411732</td>\n      <td>0.500067</td>\n      <td>0.549466</td>\n      <td>0.588629</td>\n      <td>0.629069</td>\n      <td>0.658221</td>\n      <td>0.697029</td>\n      <td>0.762320</td>\n      <td>0.426317</td>\n    </tr>\n    <tr>\n      <th>5</th>\n      <td>0.184094</td>\n      <td>0.273982</td>\n      <td>0.352204</td>\n      <td>0.421866</td>\n      <td>0.492056</td>\n      <td>0.573894</td>\n      <td>0.652752</td>\n      <td>0.686290</td>\n      <td>0.725607</td>\n      <td>0.768767</td>\n      <td>0.313899</td>\n    </tr>\n    <tr>\n      <th>6</th>\n      <td>0.109909</td>\n      <td>0.239896</td>\n      <td>0.376225</td>\n      <td>0.487325</td>\n      <td>0.593846</td>\n      <td>0.644880</td>\n      <td>0.703852</td>\n      <td>0.762052</td>\n      <td>0.803980</td>\n      <td>0.826108</td>\n      <td>0.318673</td>\n    </tr>\n    <tr>\n      <th>7</th>\n      <td>0.084013</td>\n      <td>0.209871</td>\n      <td>0.301367</td>\n      <td>0.372163</td>\n      <td>0.427588</td>\n      <td>0.452712</td>\n      <td>0.478599</td>\n      <td>0.506967</td>\n      <td>0.565844</td>\n      <td>0.601748</td>\n      <td>0.408083</td>\n    </tr>\n    <tr>\n      <th>10</th>\n      <td>0.091872</td>\n      <td>0.176927</td>\n      <td>0.267090</td>\n      <td>0.335192</td>\n      <td>0.429375</td>\n      <td>0.495449</td>\n      <td>0.536660</td>\n      <td>0.594485</td>\n      <td>0.628502</td>\n      <td>0.668651</td>\n      <td>0.350811</td>\n    </tr>\n    <tr>\n      <th>11</th>\n      <td>0.119474</td>\n      <td>0.271348</td>\n      <td>0.390908</td>\n      <td>0.408926</td>\n      <td>0.467726</td>\n      <td>0.506358</td>\n      <td>0.527032</td>\n      <td>0.543912</td>\n      <td>0.586293</td>\n      <td>0.716151</td>\n      <td>0.165306</td>\n    </tr>\n    <tr>\n      <th>12</th>\n      <td>0.072952</td>\n      <td>0.221803</td>\n      <td>0.329185</td>\n      <td>0.433590</td>\n      <td>0.508631</td>\n      <td>0.580302</td>\n      <td>0.623447</td>\n      <td>0.688447</td>\n      <td>0.706934</td>\n      <td>0.755497</td>\n      <td>0.309593</td>\n    </tr>\n    <tr>\n      <th>13</th>\n      <td>0.059455</td>\n      <td>0.116748</td>\n      <td>0.225215</td>\n      <td>0.275464</td>\n      <td>0.355880</td>\n      <td>0.408191</td>\n      <td>0.480799</td>\n      <td>0.517338</td>\n      <td>0.567690</td>\n      <td>0.664801</td>\n      <td>0.406495</td>\n    </tr>\n    <tr>\n      <th>14</th>\n      <td>0.030867</td>\n      <td>0.141294</td>\n      <td>0.203118</td>\n      <td>0.279536</td>\n      <td>0.376197</td>\n      <td>0.464071</td>\n      <td>0.509408</td>\n      <td>0.596827</td>\n      <td>0.640165</td>\n      <td>0.673727</td>\n      <td>0.317033</td>\n    </tr>\n    <tr>\n      <th>18</th>\n      <td>0.100203</td>\n      <td>0.194782</td>\n      <td>0.246993</td>\n      <td>0.278710</td>\n      <td>0.385945</td>\n      <td>0.469192</td>\n      <td>0.539929</td>\n      <td>0.583342</td>\n      <td>0.634349</td>\n      <td>0.723539</td>\n      <td>0.228313</td>\n    </tr>\n    <tr>\n      <th>22</th>\n      <td>0.142905</td>\n      <td>0.216687</td>\n      <td>0.280354</td>\n      <td>0.333252</td>\n      <td>0.402871</td>\n      <td>0.423773</td>\n      <td>0.473053</td>\n      <td>0.490625</td>\n      <td>0.508452</td>\n      <td>0.597704</td>\n      <td>0.328529</td>\n    </tr>\n    <tr>\n      <th>24</th>\n      <td>0.041892</td>\n      <td>0.128213</td>\n      <td>0.194006</td>\n      <td>0.251825</td>\n      <td>0.310271</td>\n      <td>0.373513</td>\n      <td>0.426521</td>\n      <td>0.462688</td>\n      <td>0.522564</td>\n      <td>0.618444</td>\n      <td>0.213231</td>\n    </tr>\n    <tr>\n      <th>25</th>\n      <td>0.079117</td>\n      <td>0.176428</td>\n      <td>0.254611</td>\n      <td>0.310761</td>\n      <td>0.363560</td>\n      <td>0.401470</td>\n      <td>0.441587</td>\n      <td>0.477159</td>\n      <td>0.509384</td>\n      <td>0.581716</td>\n      <td>0.293810</td>\n    </tr>\n    <tr>\n      <th>28</th>\n      <td>0.175967</td>\n      <td>0.334974</td>\n      <td>0.451695</td>\n      <td>0.520436</td>\n      <td>0.577228</td>\n      <td>0.625444</td>\n      <td>0.671878</td>\n      <td>0.713804</td>\n      <td>0.744065</td>\n      <td>0.792024</td>\n      <td>0.293410</td>\n    </tr>\n    <tr>\n      <th>35</th>\n      <td>0.018167</td>\n      <td>0.082769</td>\n      <td>0.142943</td>\n      <td>0.237823</td>\n      <td>0.297515</td>\n      <td>0.353708</td>\n      <td>0.427129</td>\n      <td>0.477606</td>\n      <td>0.531407</td>\n      <td>0.601034</td>\n      <td>0.659556</td>\n    </tr>\n    <tr>\n      <th>36</th>\n      <td>0.041664</td>\n      <td>0.138768</td>\n      <td>0.242361</td>\n      <td>0.318967</td>\n      <td>0.355524</td>\n      <td>0.395426</td>\n      <td>0.456667</td>\n      <td>0.506021</td>\n      <td>0.536935</td>\n      <td>0.591486</td>\n      <td>0.370253</td>\n    </tr>\n    <tr>\n      <th>37</th>\n      <td>0.154218</td>\n      <td>0.267825</td>\n      <td>0.388641</td>\n      <td>0.479837</td>\n      <td>0.550402</td>\n      <td>0.605611</td>\n      <td>0.649902</td>\n      <td>0.678848</td>\n      <td>0.707562</td>\n      <td>0.794502</td>\n      <td>0.325933</td>\n    </tr>\n    <tr>\n      <th>38</th>\n      <td>0.062018</td>\n      <td>0.168884</td>\n      <td>0.267270</td>\n      <td>0.339911</td>\n      <td>0.412030</td>\n      <td>0.489034</td>\n      <td>0.522950</td>\n      <td>0.568759</td>\n      <td>0.602180</td>\n      <td>0.653487</td>\n      <td>0.396103</td>\n    </tr>\n    <tr>\n      <th>41</th>\n      <td>0.216236</td>\n      <td>0.298929</td>\n      <td>0.355754</td>\n      <td>0.389176</td>\n      <td>0.420097</td>\n      <td>0.428237</td>\n      <td>0.437398</td>\n      <td>0.445011</td>\n      <td>0.450318</td>\n      <td>0.455626</td>\n      <td>0.317626</td>\n    </tr>\n    <tr>\n      <th>42</th>\n      <td>0.185402</td>\n      <td>0.259789</td>\n      <td>0.343544</td>\n      <td>0.454972</td>\n      <td>0.527120</td>\n      <td>0.594246</td>\n      <td>0.629840</td>\n      <td>0.684648</td>\n      <td>0.738508</td>\n      <td>0.791655</td>\n      <td>0.311979</td>\n    </tr>\n    <tr>\n      <th>49</th>\n      <td>0.351280</td>\n      <td>0.549756</td>\n      <td>0.667279</td>\n      <td>0.777498</td>\n      <td>0.837492</td>\n      <td>0.856962</td>\n      <td>0.876683</td>\n      <td>0.896048</td>\n      <td>0.899556</td>\n      <td>0.904001</td>\n      <td>0.144164</td>\n    </tr>\n    <tr>\n      <th>50</th>\n      <td>0.023709</td>\n      <td>0.081035</td>\n      <td>0.158214</td>\n      <td>0.254394</td>\n      <td>0.367852</td>\n      <td>0.436222</td>\n      <td>0.488594</td>\n      <td>0.546126</td>\n      <td>0.608386</td>\n      <td>0.677022</td>\n      <td>0.248324</td>\n    </tr>\n    <tr>\n      <th>55</th>\n      <td>0.008798</td>\n      <td>0.074889</td>\n      <td>0.154118</td>\n      <td>0.243548</td>\n      <td>0.343045</td>\n      <td>0.396576</td>\n      <td>0.495640</td>\n      <td>0.568924</td>\n      <td>0.629366</td>\n      <td>0.708962</td>\n      <td>0.204661</td>\n    </tr>\n    <tr>\n      <th>58</th>\n      <td>0.176201</td>\n      <td>0.404402</td>\n      <td>0.576156</td>\n      <td>0.671404</td>\n      <td>0.718827</td>\n      <td>0.773909</td>\n      <td>0.836351</td>\n      <td>0.868425</td>\n      <td>0.886497</td>\n      <td>0.889003</td>\n      <td>0.184550</td>\n    </tr>\n    <tr>\n      <th>59</th>\n      <td>0.048737</td>\n      <td>0.108460</td>\n      <td>0.182801</td>\n      <td>0.221730</td>\n      <td>0.258841</td>\n      <td>0.293447</td>\n      <td>0.330956</td>\n      <td>0.352365</td>\n      <td>0.380415</td>\n      <td>0.525601</td>\n      <td>0.272881</td>\n    </tr>\n    <tr>\n      <th>60</th>\n      <td>0.011999</td>\n      <td>0.073996</td>\n      <td>0.161093</td>\n      <td>0.215073</td>\n      <td>0.277198</td>\n      <td>0.316086</td>\n      <td>0.349676</td>\n      <td>0.389539</td>\n      <td>0.454920</td>\n      <td>0.506439</td>\n      <td>0.402495</td>\n    </tr>\n    <tr>\n      <th>61</th>\n      <td>0.023303</td>\n      <td>0.126386</td>\n      <td>0.219531</td>\n      <td>0.295407</td>\n      <td>0.405776</td>\n      <td>0.471984</td>\n      <td>0.532060</td>\n      <td>0.582116</td>\n      <td>0.615053</td>\n      <td>0.672670</td>\n      <td>0.195626</td>\n    </tr>\n    <tr>\n      <th>62</th>\n      <td>0.193915</td>\n      <td>0.325801</td>\n      <td>0.409297</td>\n      <td>0.475889</td>\n      <td>0.547253</td>\n      <td>0.598080</td>\n      <td>0.634092</td>\n      <td>0.680632</td>\n      <td>0.727285</td>\n      <td>0.775421</td>\n      <td>0.354361</td>\n    </tr>\n    <tr>\n      <th>63</th>\n      <td>0.143450</td>\n      <td>0.312781</td>\n      <td>0.413669</td>\n      <td>0.496338</td>\n      <td>0.557610</td>\n      <td>0.608141</td>\n      <td>0.628033</td>\n      <td>0.665397</td>\n      <td>0.711884</td>\n      <td>0.753121</td>\n      <td>0.334209</td>\n    </tr>\n    <tr>\n      <th>66</th>\n      <td>0.107245</td>\n      <td>0.215137</td>\n      <td>0.292405</td>\n      <td>0.398486</td>\n      <td>0.483222</td>\n      <td>0.544288</td>\n      <td>0.600143</td>\n      <td>0.641435</td>\n      <td>0.671974</td>\n      <td>0.728186</td>\n      <td>0.539795</td>\n    </tr>\n    <tr>\n      <th>67</th>\n      <td>0.154186</td>\n      <td>0.260445</td>\n      <td>0.360398</td>\n      <td>0.471945</td>\n      <td>0.538360</td>\n      <td>0.606968</td>\n      <td>0.656962</td>\n      <td>0.705318</td>\n      <td>0.739386</td>\n      <td>0.766181</td>\n      <td>0.262502</td>\n    </tr>\n    <tr>\n      <th>68</th>\n      <td>0.110239</td>\n      <td>0.268907</td>\n      <td>0.349666</td>\n      <td>0.433912</td>\n      <td>0.481280</td>\n      <td>0.540837</td>\n      <td>0.596378</td>\n      <td>0.629836</td>\n      <td>0.681763</td>\n      <td>0.734618</td>\n      <td>0.435029</td>\n    </tr>\n    <tr>\n      <th>70</th>\n      <td>0.240574</td>\n      <td>0.338928</td>\n      <td>0.435970</td>\n      <td>0.511033</td>\n      <td>0.569167</td>\n      <td>0.601660</td>\n      <td>0.633340</td>\n      <td>0.665361</td>\n      <td>0.713928</td>\n      <td>0.774387</td>\n      <td>0.234437</td>\n    </tr>\n    <tr>\n      <th>71</th>\n      <td>0.185673</td>\n      <td>0.291381</td>\n      <td>0.393218</td>\n      <td>0.507118</td>\n      <td>0.570192</td>\n      <td>0.599201</td>\n      <td>0.636645</td>\n      <td>0.673584</td>\n      <td>0.710632</td>\n      <td>0.744542</td>\n      <td>0.437218</td>\n    </tr>\n  </tbody>\n</table>\n</div>"
     },
     "execution_count": 19,
     "metadata": {},
     "output_type": "execute_result"
    }
   ],
   "source": [
    "# merge dataframes together to access every possible combination of participant, algorithm and duration,skillscore\n",
    "df_combined = pd.merge(df_line_fixation_per_participant, df_snippet_length, on=[\"Algorithm\"])\n",
    "df_combined = pd.merge(df_combined, df_behavioral, on=[\"Participant\", \"Algorithm\"])\n",
    "\n",
    "# transform the data to seconds\n",
    "df_combined[\"FixationStart\"] = df_combined[\"FixationStart\"]\n",
    "df_combined[\"FixationEnd\"] = df_combined[\"FixationEnd\"]\n",
    "\n",
    "# Helper function to calculate the coverage of LOC after 'percentage' percent from the whole duration\n",
    "def loc_coverage_after_time_percentage(df, percentage):\n",
    "    end_duration = df[\"Duration\"].iloc[0]\n",
    "    loc = df[\"LOC\"].iloc[0]\n",
    "    max_duration = end_duration * percentage\n",
    "    df_filtered = df[df[\"FixationEnd\"] <= max_duration]\n",
    "    unique_loc = df_filtered[\"LineNumber\"].nunique()\n",
    "    return unique_loc / loc\n",
    "\n",
    "# calculate LOC coverage after a certain percentage of the duration\n",
    "df_10 = df_combined.groupby([\"Algorithm\", \"Participant\"]).apply(lambda df : loc_coverage_after_time_percentage(df, 0.1))\n",
    "df_20 = df_combined.groupby([\"Algorithm\", \"Participant\"]).apply(lambda df : loc_coverage_after_time_percentage(df, 0.2))\n",
    "df_30 = df_combined.groupby([\"Algorithm\", \"Participant\"]).apply(lambda df : loc_coverage_after_time_percentage(df, 0.3))\n",
    "df_40 = df_combined.groupby([\"Algorithm\", \"Participant\"]).apply(lambda df : loc_coverage_after_time_percentage(df, 0.4))\n",
    "df_50 = df_combined.groupby([\"Algorithm\", \"Participant\"]).apply(lambda df : loc_coverage_after_time_percentage(df, 0.5))\n",
    "df_60 = df_combined.groupby([\"Algorithm\", \"Participant\"]).apply(lambda df : loc_coverage_after_time_percentage(df, 0.6))\n",
    "df_70 = df_combined.groupby([\"Algorithm\", \"Participant\"]).apply(lambda df : loc_coverage_after_time_percentage(df, 0.7))\n",
    "df_80 = df_combined.groupby([\"Algorithm\", \"Participant\"]).apply(lambda df : loc_coverage_after_time_percentage(df, 0.8))\n",
    "df_90 = df_combined.groupby([\"Algorithm\", \"Participant\"]).apply(lambda df : loc_coverage_after_time_percentage(df, 0.9))\n",
    "df_100 = df_combined.groupby([\"Algorithm\", \"Participant\"]).apply(lambda df : loc_coverage_after_time_percentage(df, 1.))\n",
    "\n",
    "df_10 = df_10.reset_index()\n",
    "df_20 = df_20.reset_index()\n",
    "df_30 = df_30.reset_index()\n",
    "df_40 = df_40.reset_index()\n",
    "df_50 = df_50.reset_index()\n",
    "df_60 = df_60.reset_index()\n",
    "df_70 = df_70.reset_index()\n",
    "df_80 = df_80.reset_index()\n",
    "df_90 = df_90.reset_index()\n",
    "df_100 = df_100.reset_index()\n",
    "\n",
    "\n",
    "df_10 = df_10.groupby([\"Participant\"]).mean().values.reshape(37, )\n",
    "df_20 = df_20.groupby([\"Participant\"]).mean().values.reshape(37, )\n",
    "df_30 = df_30.groupby([\"Participant\"]).mean().values.reshape(37, )\n",
    "df_40 = df_40.groupby([\"Participant\"]).mean().values.reshape(37, )\n",
    "df_50 = df_50.groupby([\"Participant\"]).mean().values.reshape(37, )\n",
    "df_60 = df_60.groupby([\"Participant\"]).mean().values.reshape(37, )\n",
    "df_70 = df_70.groupby([\"Participant\"]).mean().values.reshape(37, )\n",
    "df_80 = df_80.groupby([\"Participant\"]).mean().values.reshape(37, )\n",
    "df_90 = df_90.groupby([\"Participant\"]).mean().values.reshape(37, )\n",
    "df_100 = df_100.groupby([\"Participant\"]).mean().values.reshape(37, )\n",
    "\n",
    "# extract the raw skillscore per participant\n",
    "df_skill = df_behavioral[[\"Participant\", \"SkillScore\"]]\n",
    "df_skill = df_skill.drop_duplicates()\n",
    "\n",
    "# create a dataframe with all the LOC coverage and Participant\n",
    "df_code_coverage = pd.DataFrame({\"Participant\": participants,\n",
    "                                 \"10%\" : df_10,\n",
    "                                 \"20%\" : df_20,\n",
    "                                 \"30%\" : df_30,\n",
    "                                 \"40%\" : df_40,\n",
    "                                 \"50%\" : df_50,\n",
    "                                 \"60%\" : df_60,\n",
    "                                 \"70%\" : df_70,\n",
    "                                 \"80%\" : df_80,\n",
    "                                 \"90%\" : df_90,\n",
    "                                 \"100%\" : df_100})\n",
    "\n",
    "df_code_coverage.set_index(\"Participant\", inplace=True, drop=True)\n",
    "\n",
    "# Merge LOC coverage with skillscore with correlations\n",
    "df_code_coverage = pd.merge(df_code_coverage, df_skill, on=[\"Participant\"])\n",
    "df_code_coverage.set_index(\"Participant\", inplace=True, drop=True)\n",
    "df_code_coverage"
   ],
   "metadata": {
    "collapsed": false,
    "pycharm": {
     "name": "#%%\n"
    }
   }
  },
  {
   "cell_type": "code",
   "execution_count": 21,
   "outputs": [
    {
     "data": {
      "text/plain": "             10%        20%        30%        40%        50%        60%  \\\ncount  37.000000  37.000000  37.000000  37.000000  37.000000  37.000000   \nmean    0.120873   0.234169   0.327526   0.404604   0.473058   0.524575   \nstd     0.080188   0.109248   0.122559   0.132468   0.128267   0.125982   \nmin     0.008798   0.073996   0.142943   0.215073   0.258841   0.293447   \n25%     0.059455   0.141294   0.242361   0.295407   0.376197   0.428237   \n50%     0.110239   0.239896   0.343544   0.408926   0.469966   0.520825   \n75%     0.175967   0.291381   0.390908   0.479837   0.549466   0.599201   \nmax     0.351280   0.549756   0.667279   0.777498   0.837492   0.856962   \n\n             70%        80%        90%       100%  SkillScore  \ncount  37.000000  37.000000  37.000000  37.000000   37.000000  \nmean    0.571188   0.611315   0.650219   0.705822    0.325261  \nstd     0.122727   0.122042   0.117265   0.101936    0.102608  \nmin     0.330956   0.352365   0.380415   0.455626    0.144164  \n25%     0.480799   0.517338   0.567690   0.653487    0.262502  \n50%     0.584122   0.627649   0.670700   0.723539    0.317626  \n75%     0.634092   0.680632   0.720942   0.768767    0.381621  \nmax     0.876683   0.896048   0.899556   0.904001    0.659556  ",
      "text/html": "<div>\n<style scoped>\n    .dataframe tbody tr th:only-of-type {\n        vertical-align: middle;\n    }\n\n    .dataframe tbody tr th {\n        vertical-align: top;\n    }\n\n    .dataframe thead th {\n        text-align: right;\n    }\n</style>\n<table border=\"1\" class=\"dataframe\">\n  <thead>\n    <tr style=\"text-align: right;\">\n      <th></th>\n      <th>10%</th>\n      <th>20%</th>\n      <th>30%</th>\n      <th>40%</th>\n      <th>50%</th>\n      <th>60%</th>\n      <th>70%</th>\n      <th>80%</th>\n      <th>90%</th>\n      <th>100%</th>\n      <th>SkillScore</th>\n    </tr>\n  </thead>\n  <tbody>\n    <tr>\n      <th>count</th>\n      <td>37.000000</td>\n      <td>37.000000</td>\n      <td>37.000000</td>\n      <td>37.000000</td>\n      <td>37.000000</td>\n      <td>37.000000</td>\n      <td>37.000000</td>\n      <td>37.000000</td>\n      <td>37.000000</td>\n      <td>37.000000</td>\n      <td>37.000000</td>\n    </tr>\n    <tr>\n      <th>mean</th>\n      <td>0.120873</td>\n      <td>0.234169</td>\n      <td>0.327526</td>\n      <td>0.404604</td>\n      <td>0.473058</td>\n      <td>0.524575</td>\n      <td>0.571188</td>\n      <td>0.611315</td>\n      <td>0.650219</td>\n      <td>0.705822</td>\n      <td>0.325261</td>\n    </tr>\n    <tr>\n      <th>std</th>\n      <td>0.080188</td>\n      <td>0.109248</td>\n      <td>0.122559</td>\n      <td>0.132468</td>\n      <td>0.128267</td>\n      <td>0.125982</td>\n      <td>0.122727</td>\n      <td>0.122042</td>\n      <td>0.117265</td>\n      <td>0.101936</td>\n      <td>0.102608</td>\n    </tr>\n    <tr>\n      <th>min</th>\n      <td>0.008798</td>\n      <td>0.073996</td>\n      <td>0.142943</td>\n      <td>0.215073</td>\n      <td>0.258841</td>\n      <td>0.293447</td>\n      <td>0.330956</td>\n      <td>0.352365</td>\n      <td>0.380415</td>\n      <td>0.455626</td>\n      <td>0.144164</td>\n    </tr>\n    <tr>\n      <th>25%</th>\n      <td>0.059455</td>\n      <td>0.141294</td>\n      <td>0.242361</td>\n      <td>0.295407</td>\n      <td>0.376197</td>\n      <td>0.428237</td>\n      <td>0.480799</td>\n      <td>0.517338</td>\n      <td>0.567690</td>\n      <td>0.653487</td>\n      <td>0.262502</td>\n    </tr>\n    <tr>\n      <th>50%</th>\n      <td>0.110239</td>\n      <td>0.239896</td>\n      <td>0.343544</td>\n      <td>0.408926</td>\n      <td>0.469966</td>\n      <td>0.520825</td>\n      <td>0.584122</td>\n      <td>0.627649</td>\n      <td>0.670700</td>\n      <td>0.723539</td>\n      <td>0.317626</td>\n    </tr>\n    <tr>\n      <th>75%</th>\n      <td>0.175967</td>\n      <td>0.291381</td>\n      <td>0.390908</td>\n      <td>0.479837</td>\n      <td>0.549466</td>\n      <td>0.599201</td>\n      <td>0.634092</td>\n      <td>0.680632</td>\n      <td>0.720942</td>\n      <td>0.768767</td>\n      <td>0.381621</td>\n    </tr>\n    <tr>\n      <th>max</th>\n      <td>0.351280</td>\n      <td>0.549756</td>\n      <td>0.667279</td>\n      <td>0.777498</td>\n      <td>0.837492</td>\n      <td>0.856962</td>\n      <td>0.876683</td>\n      <td>0.896048</td>\n      <td>0.899556</td>\n      <td>0.904001</td>\n      <td>0.659556</td>\n    </tr>\n  </tbody>\n</table>\n</div>"
     },
     "execution_count": 21,
     "metadata": {},
     "output_type": "execute_result"
    }
   ],
   "source": [
    "# describe the LOC coverage\n",
    "df_code_coverage.describe()"
   ],
   "metadata": {
    "collapsed": false,
    "pycharm": {
     "name": "#%%\n"
    }
   }
  },
  {
   "cell_type": "code",
   "execution_count": 22,
   "outputs": [
    {
     "data": {
      "text/plain": "10%          -0.230927\n20%          -0.256916\n30%          -0.273375\n40%          -0.218091\n50%          -0.251149\n60%          -0.255258\n70%          -0.246854\n80%          -0.238073\n90%          -0.221308\n100%         -0.272816\nSkillScore    1.000000\ndtype: float64"
     },
     "execution_count": 22,
     "metadata": {},
     "output_type": "execute_result"
    }
   ],
   "source": [
    "# spearman correlation for LOC coverage and skillscore\n",
    "df_code_coverage.corrwith(df_code_coverage[\"SkillScore\"])"
   ],
   "metadata": {
    "collapsed": false,
    "pycharm": {
     "name": "#%%\n"
    }
   }
  },
  {
   "cell_type": "code",
   "execution_count": null,
   "outputs": [],
   "source": [],
   "metadata": {
    "collapsed": false,
    "pycharm": {
     "name": "#%%\n"
    }
   }
  }
 ],
 "metadata": {
  "kernelspec": {
   "display_name": "Python 3",
   "language": "python",
   "name": "python3"
  },
  "language_info": {
   "codemirror_mode": {
    "name": "ipython",
    "version": 2
   },
   "file_extension": ".py",
   "mimetype": "text/x-python",
   "name": "python",
   "nbconvert_exporter": "python",
   "pygments_lexer": "ipython2",
   "version": "2.7.6"
  }
 },
 "nbformat": 4,
 "nbformat_minor": 0
}